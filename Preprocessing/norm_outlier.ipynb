{
 "cells": [
  {
   "cell_type": "markdown",
   "id": "bd1113d9",
   "metadata": {},
   "source": [
    "# Outlier Detection and Normlizing the DEM and CAPITAL\n",
    "\n",
    "*Date: July 18th, 2025*\n",
    "\n",
    "*Description: This code is written to read DEM and CAPITAL tiff files and return back the normalized and cleaned version of these two. For CAPITAL, every scene with averages of zero is omitted, and for DEM every scene with averages less than zero is omitted.*"
   ]
  },
  {
   "cell_type": "markdown",
   "id": "76338a4c",
   "metadata": {},
   "source": [
    "## PRELIMINARY"
   ]
  },
  {
   "cell_type": "code",
   "execution_count": 1,
   "id": "c93b0bdc",
   "metadata": {},
   "outputs": [],
   "source": [
    "# Cleaning CAPITAL_1996\n",
    "folders = {\n",
    "    'dem': '/Users/sayedmorteza/Library/CloudStorage/Box-Box/Hetwet_Data/DEM',\n",
    "    'cap': '/Users/sayedmorteza/Library/CloudStorage/Box-Box/Hetwet_Data/CAPITAL_1996'\n",
    "}\n",
    "output_dir_cap = '/Users/sayedmorteza/Library/CloudStorage/Box-Box/Hetwet_Data/Synthetic/CAPITAL_1996'\n",
    "output_dir_dem = '/Users/sayedmorteza/Library/CloudStorage/Box-Box/Hetwet_Data/Synthetic/DEM'"
   ]
  },
  {
   "cell_type": "code",
   "execution_count": 2,
   "id": "024be1fe",
   "metadata": {},
   "outputs": [],
   "source": [
    "# This code read scene averages and return back the scene ID and average\n",
    "import os\n",
    "import re\n",
    "import numpy as np\n",
    "import rasterio\n",
    "\n",
    "def read_scene_averages(folder_path, prefix=None):\n",
    "    \"\"\"\n",
    "    Reads all TIFF files in `folder_path`, extracts scene_id, and returns\n",
    "    a list of (scene_id, average_pixel_value) tuples.\n",
    "\n",
    "    Args:\n",
    "      folder_path (str): directory containing .tif/.tiff files\n",
    "      prefix     (str, optional): filename prefix before the underscore.\n",
    "          If provided, only files matching \"<prefix>_<scene_id>.tif[f]\" are read.\n",
    "          If None, will match any \"<anything>_<scene_id>.tif[f]\".\n",
    "\n",
    "    Returns:\n",
    "      List of (scene_id:int, average:float), sorted by scene_id.\n",
    "    \"\"\"\n",
    "    # build regex: either PREFIX_(digits).tif[f] or anything_(digits).tif[f]\n",
    "    if prefix:\n",
    "        esc = re.escape(prefix)\n",
    "        pattern = re.compile(rf'^{esc}_(\\d+)\\.(tif|tiff)$', re.IGNORECASE)\n",
    "    else:\n",
    "        pattern = re.compile(r'^.*?_(\\d+)\\.(tif|tiff)$', re.IGNORECASE)\n",
    "\n",
    "    results = []\n",
    "    for fname in os.listdir(folder_path):\n",
    "        m = pattern.match(fname)\n",
    "        if not m:\n",
    "            continue\n",
    "\n",
    "        scene_id = int(m.group(1))\n",
    "        path = os.path.join(folder_path, fname)\n",
    "        with rasterio.open(path) as src:\n",
    "            arr = src.read(1).astype(np.float32)\n",
    "            avg = float(np.nanmean(arr))\n",
    "        results.append((scene_id, avg))\n",
    "\n",
    "    # sort by scene_id\n",
    "    return sorted(results, key=lambda x: x[0])"
   ]
  },
  {
   "cell_type": "markdown",
   "id": "7a0b9346",
   "metadata": {},
   "source": [
    "## CAPITAL"
   ]
  },
  {
   "cell_type": "markdown",
   "id": "283d367d",
   "metadata": {},
   "source": [
    "### CLEAN AND NORMALIZE FUNCTION"
   ]
  },
  {
   "cell_type": "code",
   "execution_count": null,
   "id": "2a43002c",
   "metadata": {},
   "outputs": [],
   "source": [
    "import os\n",
    "import numpy as np\n",
    "import rasterio\n",
    "from sklearn.preprocessing import StandardScaler\n",
    "import pickle\n",
    "\n",
    "def clean_and_normalize_capital(input_dir, output_dir, num_scenes=3566):\n",
    "    \"\"\"\n",
    "    Reads CAPITAL_1996_{i}.tiff for i in 1..num_scenes from `input_dir`,\n",
    "    cleans (drop zero-mean, impute NaN/inf), fits a StandardScaler,\n",
    "    normalizes each scene, and writes outputs to `output_dir`.\n",
    "    Also saves the fitted scaler as standard_scaler.pkl.\n",
    "    Prints any missing or removed scene IDs.\n",
    "    \"\"\"\n",
    "    os.makedirs(output_dir, exist_ok=True)\n",
    "\n",
    "    data_list = []\n",
    "    valid_ids = []\n",
    "    removed_zero = []\n",
    "    missing_files = []\n",
    "\n",
    "    # First pass: load and clean\n",
    "    for i in range(1, num_scenes + 1):\n",
    "        fname = f\"CAPITAL_1996_{i}.tiff\"\n",
    "        in_path = os.path.join(input_dir, fname)\n",
    "        if not os.path.exists(in_path):\n",
    "            missing_files.append(i)\n",
    "            continue\n",
    "\n",
    "        with rasterio.open(in_path) as src:\n",
    "            arr = src.read(1).astype(np.float32)\n",
    "\n",
    "        mean_val = np.nanmean(arr)\n",
    "        if mean_val == 0:\n",
    "            removed_zero.append(i)\n",
    "            continue\n",
    "\n",
    "        # impute NaN or infinite\n",
    "        arr = np.where(~np.isfinite(arr), mean_val, arr)\n",
    "        data_list.append(arr.flatten())\n",
    "        valid_ids.append(i)\n",
    "\n",
    "    # Report missing and zero-mean\n",
    "    if missing_files:\n",
    "        print(f\"Missing scene files ({len(missing_files)}): {missing_files}\")\n",
    "    if removed_zero:\n",
    "        print(f\"Removed zero-mean scenes ({len(removed_zero)}): {removed_zero}\")\n",
    "\n",
    "    if not data_list:\n",
    "        raise RuntimeError(\"No valid scenes left after loading and cleaning.\")\n",
    "\n",
    "    # Save Missing, Removed, and Valid scene IDs as csv files\n",
    "    np.savetxt(os.path.join(output_dir, \"missing_files_cap.csv\"), missing_files, delimiter=\",\", fmt=\"%d\")\n",
    "    np.savetxt(os.path.join(output_dir, \"removed_zero_cap.csv\"), removed_zero, delimiter=\",\", fmt=\"%d\")\n",
    "    np.savetxt(os.path.join(output_dir, \"valid_ids_cap.csv\"), valid_ids, delimiter=\",\", fmt=\"%d\")\n",
    "\n",
    "    # Stack and scale\n",
    "    data_matrix = np.stack(data_list, axis=0)\n",
    "    scaler = StandardScaler()\n",
    "    data_scaled = scaler.fit_transform(data_matrix)\n",
    "\n",
    "    # Save scaler\n",
    "    scaler_path = os.path.join(output_dir, \"standard_scaler_cap.pkl\")\n",
    "    with open(scaler_path, 'wb') as f:\n",
    "        pickle.dump(scaler, f)\n",
    "\n",
    "    # Second pass: write cleaned & normalized scenes\n",
    "    for idx, scene_id in enumerate(valid_ids):\n",
    "        fname = f\"CAPITAL_1996_{scene_id}.tiff\"\n",
    "        in_path = os.path.join(input_dir, fname)\n",
    "        with rasterio.open(in_path) as src:\n",
    "            meta = src.meta.copy()\n",
    "\n",
    "        meta.update(dtype=rasterio.float32, count=1)\n",
    "        out_path = os.path.join(output_dir, fname)\n",
    "\n",
    "        arr_scaled = data_scaled[idx].reshape(meta['height'], meta['width'])\n",
    "        with rasterio.open(out_path, 'w', **meta) as dst:\n",
    "            dst.write(arr_scaled.astype(rasterio.float32), 1)\n",
    "\n",
    "    print(\"Cleaning and normalization complete.\")"
   ]
  },
  {
   "cell_type": "code",
   "execution_count": null,
   "id": "11f232c2",
   "metadata": {},
   "outputs": [],
   "source": [
    "# Running the function\n",
    "clean_and_normalize_capital(folders['cap'], output_dir_cap)"
   ]
  },
  {
   "cell_type": "markdown",
   "id": "9e4de78b",
   "metadata": {},
   "source": [
    "### Plotting the distribution of CAPITAL_1996 averages"
   ]
  },
  {
   "cell_type": "code",
   "execution_count": null,
   "id": "529f9ace",
   "metadata": {},
   "outputs": [],
   "source": [
    "import os\n",
    "import re\n",
    "import numpy as np\n",
    "import rasterio\n",
    "\n",
    "def read_scene_averages(folder_path, prefix=None):\n",
    "    \"\"\"\n",
    "    Reads all TIFF files in `folder_path`, extracts scene_id, and returns\n",
    "    a list of (scene_id, average_pixel_value) tuples.\n",
    "\n",
    "    Args:\n",
    "      folder_path (str): directory containing .tif/.tiff files\n",
    "      prefix     (str, optional): filename prefix before the underscore.\n",
    "          If provided, only files matching \"<prefix>_<scene_id>.tif[f]\" are read.\n",
    "          If None, will match any \"<anything>_<scene_id>.tif[f]\".\n",
    "\n",
    "    Returns:\n",
    "      List of (scene_id:int, average:float), sorted by scene_id.\n",
    "    \"\"\"\n",
    "    # build regex: either PREFIX_(digits).tif[f] or anything_(digits).tif[f]\n",
    "    if prefix:\n",
    "        esc = re.escape(prefix)\n",
    "        pattern = re.compile(rf'^{esc}_(\\d+)\\.(tif|tiff)$', re.IGNORECASE)\n",
    "    else:\n",
    "        pattern = re.compile(r'^.*?_(\\d+)\\.(tif|tiff)$', re.IGNORECASE)\n",
    "\n",
    "    results = []\n",
    "    for fname in os.listdir(folder_path):\n",
    "        m = pattern.match(fname)\n",
    "        if not m:\n",
    "            continue\n",
    "\n",
    "        scene_id = int(m.group(1))\n",
    "        path = os.path.join(folder_path, fname)\n",
    "        with rasterio.open(path) as src:\n",
    "            arr = src.read(1).astype(np.float32)\n",
    "            avg = float(np.nanmean(arr))\n",
    "        results.append((scene_id, avg))\n",
    "\n",
    "    # sort by scene_id\n",
    "    return sorted(results, key=lambda x: x[0])"
   ]
  },
  {
   "cell_type": "code",
   "execution_count": null,
   "id": "90bfeaf8",
   "metadata": {},
   "outputs": [],
   "source": [
    "import matplotlib.pyplot as plt\n",
    "\n",
    "# Head of CAPITAL_1996 averages\n",
    "cap_averages = read_scene_averages(output_dir_cap, prefix=\"CAPITAL_1996\")\n",
    "plt.hist(np.array(cap_averages)[:,1])\n",
    "plt.title(\"Histogram of CAPITAL_1996 Averages\")\n",
    "plt.xlabel(\"Average Pixel Value\")\n",
    "plt.ylabel(\"Frequency\")\n",
    "plt.grid()\n",
    "plt.show()"
   ]
  },
  {
   "cell_type": "markdown",
   "id": "e5c5085e",
   "metadata": {},
   "source": [
    "## DEM"
   ]
  },
  {
   "cell_type": "markdown",
   "id": "05bcf4dd",
   "metadata": {},
   "source": [
    "### CLEAN AND NORMALIZE FUNCTION"
   ]
  },
  {
   "cell_type": "code",
   "execution_count": 3,
   "id": "e9b6c0c3",
   "metadata": {},
   "outputs": [],
   "source": [
    "import os\n",
    "import numpy as np\n",
    "import rasterio\n",
    "from sklearn.preprocessing import StandardScaler\n",
    "import pickle\n",
    "\n",
    "def clean_and_normalize_dem(input_dir, output_dir, num_scenes=3566):\n",
    "    \"\"\"\n",
    "    Reads DEM_{i}.tiff for i in 1..num_scenes from `input_dir`,\n",
    "    cleans (drop zero-mean, impute NaN/inf), fits a StandardScaler,\n",
    "    normalizes each scene, and writes outputs to `output_dir`.\n",
    "    Also saves the fitted scaler as standard_scaler.pkl.\n",
    "    Prints any missing or removed scene IDs.\n",
    "    \"\"\"\n",
    "    os.makedirs(output_dir, exist_ok=True)\n",
    "\n",
    "    data_list = []\n",
    "    valid_ids = []\n",
    "    removed_zero = []\n",
    "    missing_files = []\n",
    "\n",
    "    # First pass: load and clean\n",
    "    for i in range(1, num_scenes + 1):\n",
    "        fname = f\"DEM_{i}.tiff\"\n",
    "        in_path = os.path.join(input_dir, fname)\n",
    "        if not os.path.exists(in_path):\n",
    "            missing_files.append(i)\n",
    "            continue\n",
    "\n",
    "        with rasterio.open(in_path) as src:\n",
    "            arr = src.read(1).astype(np.float32)\n",
    "\n",
    "        mean_val = np.nanmean(arr)\n",
    "        if mean_val <= 0:\n",
    "            removed_zero.append(i)\n",
    "            continue\n",
    "\n",
    "        # impute NaN or infinite\n",
    "        arr = np.where(~np.isfinite(arr), mean_val, arr)\n",
    "        data_list.append(arr.flatten())\n",
    "        valid_ids.append(i)\n",
    "\n",
    "    # Report missing and zero-mean\n",
    "    if missing_files:\n",
    "        print(f\"Missing scene files ({len(missing_files)}): {missing_files}\")\n",
    "    if removed_zero:\n",
    "        print(f\"Removed less than zero-mean scenes ({len(removed_zero)}): {removed_zero}\")\n",
    "\n",
    "    if not data_list:\n",
    "        raise RuntimeError(\"No valid scenes left after loading and cleaning.\")\n",
    "\n",
    "    # Save Missing, Removed, and Valid scene IDs as csv files\n",
    "    np.savetxt(os.path.join(output_dir, \"missing_files_dem.csv\"), missing_files, delimiter=\",\", fmt=\"%d\")\n",
    "    np.savetxt(os.path.join(output_dir, \"removed_zero_dem.csv\"), removed_zero, delimiter=\",\", fmt=\"%d\")\n",
    "    np.savetxt(os.path.join(output_dir, \"valid_ids_dem.csv\"), valid_ids, delimiter=\",\", fmt=\"%d\")\n",
    "\n",
    "    # Stack and scale\n",
    "    data_matrix = np.stack(data_list, axis=0)\n",
    "    scaler = StandardScaler()\n",
    "    data_scaled = scaler.fit_transform(data_matrix)\n",
    "\n",
    "    # Save scaler\n",
    "    scaler_path = os.path.join(output_dir, \"standard_scaler_dem.pkl\")\n",
    "    with open(scaler_path, 'wb') as f:\n",
    "        pickle.dump(scaler, f)\n",
    "\n",
    "    # Second pass: write cleaned & normalized scenes\n",
    "    for idx, scene_id in enumerate(valid_ids):\n",
    "        fname = f\"DEM_{scene_id}.tiff\"\n",
    "        in_path = os.path.join(input_dir, fname)\n",
    "        with rasterio.open(in_path) as src:\n",
    "            meta = src.meta.copy()\n",
    "\n",
    "        meta.update(dtype=rasterio.float32, count=1)\n",
    "        out_path = os.path.join(output_dir, fname)\n",
    "\n",
    "        arr_scaled = data_scaled[idx].reshape(meta['height'], meta['width'])\n",
    "        with rasterio.open(out_path, 'w', **meta) as dst:\n",
    "            dst.write(arr_scaled.astype(rasterio.float32), 1)\n",
    "\n",
    "    print(\"Cleaning and normalization complete.\")"
   ]
  },
  {
   "cell_type": "code",
   "execution_count": 4,
   "id": "7447aa0a",
   "metadata": {},
   "outputs": [
    {
     "name": "stdout",
     "output_type": "stream",
     "text": [
      "Removed less than zero-mean scenes (466): [78, 313, 392, 551, 631, 712, 793, 874, 956, 1038, 1121, 1131, 1132, 1133, 1134, 1135, 1136, 1137, 1138, 1139, 1140, 1141, 1142, 1167, 1204, 1210, 1211, 1212, 1213, 1214, 1215, 1216, 1217, 1218, 1219, 1239, 1240, 1241, 1242, 1243, 1244, 1245, 1282, 1283, 1284, 1285, 1286, 1287, 1288, 1289, 1290, 1291, 1292, 1311, 1312, 1313, 1314, 1315, 1349, 1350, 1351, 1352, 1353, 1354, 1355, 1356, 1373, 1374, 1375, 1408, 1409, 1410, 1425, 1426, 1427, 1461, 1474, 1475, 1476, 1477, 1478, 1511, 1521, 1522, 1523, 1524, 1557, 1558, 1568, 1569, 1570, 1610, 1611, 1612, 1613, 1645, 1646, 1647, 1648, 1649, 1650, 1651, 1652, 1653, 1684, 1685, 1716, 1717, 1718, 1719, 1750, 1751, 1754, 1782, 1783, 1784, 1785, 1786, 1787, 1788, 1816, 1817, 1818, 1819, 1820, 1848, 1849, 1850, 1851, 1880, 1881, 1882, 1912, 1913, 1914, 1943, 1944, 1945, 1974, 1975, 1976, 2004, 2005, 2006, 2034, 2035, 2036, 2064, 2065, 2066, 2067, 2096, 2097, 2098, 2128, 2129, 2130, 2131, 2162, 2163, 2164, 2197, 2198, 2199, 2231, 2232, 2233, 2234, 2267, 2268, 2269, 2270, 2303, 2304, 2305, 2306, 2340, 2341, 2342, 2376, 2377, 2378, 2379, 2413, 2414, 2415, 2416, 2450, 2451, 2452, 2486, 2487, 2488, 2489, 2524, 2525, 2526, 2527, 2561, 2562, 2563, 2564, 2565, 2599, 2600, 2601, 2602, 2603, 2637, 2638, 2639, 2640, 2673, 2674, 2675, 2676, 2677, 2710, 2711, 2712, 2713, 2714, 2746, 2747, 2748, 2749, 2782, 2783, 2816, 2817, 2849, 2850, 2851, 2852, 2853, 2854, 2882, 2883, 2884, 2885, 2914, 2915, 2916, 2917, 2945, 2946, 2947, 2948, 2949, 2950, 2951, 2977, 2978, 2979, 2980, 2981, 2982, 2983, 3008, 3009, 3010, 3011, 3013, 3014, 3015, 3039, 3040, 3041, 3065, 3066, 3067, 3068, 3092, 3093, 3117, 3118, 3142, 3143, 3144, 3145, 3167, 3168, 3170, 3171, 3172, 3191, 3192, 3193, 3194, 3195, 3196, 3215, 3216, 3217, 3218, 3219, 3220, 3221, 3236, 3238, 3239, 3240, 3257, 3258, 3274, 3275, 3291, 3292, 3297, 3306, 3307, 3308, 3310, 3311, 3312, 3321, 3322, 3323, 3326, 3327, 3336, 3337, 3341, 3342, 3350, 3351, 3363, 3364, 3365, 3367, 3374, 3375, 3376, 3377, 3378, 3383, 3384, 3385, 3386, 3387, 3388, 3389, 3390, 3391, 3392, 3396, 3397, 3398, 3399, 3400, 3401, 3402, 3403, 3404, 3405, 3406, 3410, 3411, 3412, 3413, 3419, 3423, 3424, 3425, 3426, 3427, 3428, 3438, 3439, 3440, 3441, 3442, 3443, 3451, 3452, 3453, 3454, 3455, 3456, 3457, 3458, 3459, 3460, 3461, 3462, 3463, 3464, 3465, 3466, 3467, 3468, 3469, 3477, 3478, 3479, 3480, 3481, 3482, 3483, 3484, 3485, 3486, 3487, 3488, 3489, 3490, 3491, 3492, 3493, 3500, 3501, 3502, 3503, 3504, 3505, 3508, 3509, 3510, 3511, 3512, 3513, 3514, 3515, 3522, 3523, 3524, 3525, 3526, 3527, 3530, 3531, 3532, 3533, 3534, 3535, 3536, 3537, 3538, 3539, 3540, 3541, 3542, 3543, 3544, 3545, 3546, 3547, 3548, 3549, 3550, 3551, 3552, 3553, 3554, 3555, 3556, 3557, 3558, 3559, 3560, 3561, 3562, 3563, 3564, 3565, 3566]\n",
      "Cleaning and normalization complete.\n"
     ]
    }
   ],
   "source": [
    "# Running the function\n",
    "clean_and_normalize_dem(folders['dem'], output_dir_dem)"
   ]
  },
  {
   "cell_type": "markdown",
   "id": "f5784165",
   "metadata": {},
   "source": [
    "### Plotting the distribution of DEM averages"
   ]
  },
  {
   "cell_type": "code",
   "execution_count": 5,
   "id": "c49d9256",
   "metadata": {},
   "outputs": [
    {
     "data": {
      "image/png": "[encoded data removed]",
      "text/plain": [
       "<Figure size 640x480 with 1 Axes>"
      ]
     },
     "metadata": {},
     "output_type": "display_data"
    }
   ],
   "source": [
    "import matplotlib.pyplot as plt\n",
    "\n",
    "# Head of DEM averages\n",
    "dem_averages = read_scene_averages(output_dir_dem, prefix=\"DEM\")\n",
    "plt.hist(np.array(dem_averages)[:,1])\n",
    "plt.title(\"Histogram of DEM Averages\")\n",
    "plt.xlabel(\"Average Pixel Value\")\n",
    "plt.ylabel(\"Frequency\")\n",
    "plt.grid()\n",
    "plt.show()"
   ]
  }
 ],
 "metadata": {
  "kernelspec": {
   "display_name": "imageTRT",
   "language": "python",
   "name": "python3"
  },
  "language_info": {
   "codemirror_mode": {
    "name": "ipython",
    "version": 3
   },
   "file_extension": ".py",
   "mimetype": "text/x-python",
   "name": "python",
   "nbconvert_exporter": "python",
   "pygments_lexer": "ipython3",
   "version": "3.10.9"
  }
 },
 "nbformat": 4,
 "nbformat_minor": 5
}
