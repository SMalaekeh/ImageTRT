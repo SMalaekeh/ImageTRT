{
 "cells": [
  {
   "cell_type": "code",
   "execution_count": 1,
   "id": "597110a9",
   "metadata": {},
   "outputs": [],
   "source": [
    "import os\n",
    "import glob\n",
    "import numpy as np\n",
    "from PIL import Image\n",
    "import pandas as pd\n",
    "import matplotlib.pyplot as plt\n",
    "\n",
    "def compute_pixel_share(input_folder: str, output_csv: str, pattern: str = 'scene_*_synthetic_gaussian.tiff'):\n",
    "    \"\"\"\n",
    "    Reads all TIFF files matching `pattern` in `input_folder`, computes the proportion\n",
    "    of pixels == 1 in each, writes results to `output_csv`, and plots a histogram.\n",
    "    \n",
    "    Parameters\n",
    "    ----------\n",
    "    input_folder : str\n",
    "        Path to the folder containing your TIFF files.\n",
    "    output_csv : str\n",
    "        Path where the CSV of results will be saved.\n",
    "    pattern : str, optional\n",
    "        Glob pattern to select TIFF files (default is 'scene_*_synthetic_gaussian.tiff').\n",
    "        \n",
    "    Returns\n",
    "    -------\n",
    "    pandas.DataFrame\n",
    "        DataFrame with columns ['filename', 'share_one'].\n",
    "    \"\"\"\n",
    "    # find all matching TIFFs\n",
    "    file_paths = glob.glob(os.path.join(input_folder, pattern))\n",
    "    records = []\n",
    "\n",
    "    for path in file_paths:\n",
    "        # load as NumPy array\n",
    "        img = Image.open(path)\n",
    "        arr = np.array(img)\n",
    "        \n",
    "        total_pixels = arr.size\n",
    "        ones = int((arr == 1).sum())\n",
    "        share = ones / total_pixels\n",
    "        \n",
    "        records.append({\n",
    "            'filename': os.path.basename(path),\n",
    "            'share_one': share,\n",
    "            'ones': ones,\n",
    "            'total_pixels': total_pixels\n",
    "        })\n",
    "\n",
    "    # build DataFrame and save\n",
    "    df = pd.DataFrame.from_records(records)\n",
    "    #df.to_csv(output_csv, index=False)\n",
    "    print(f\"Wrote results for {len(df)} files to {output_csv!r}\")\n",
    "\n",
    "    # plot histogram\n",
    "    plt.figure()\n",
    "    plt.hist(df['share_one'], bins=50)\n",
    "    plt.xlabel('Share of pixels == 1')\n",
    "    plt.ylabel('Number of TIFFs')\n",
    "    plt.title('Histogram of pixel-share==1 across scenes')\n",
    "    plt.tight_layout()\n",
    "    plt.show()\n",
    "    \n",
    "    return df\n"
   ]
  },
  {
   "cell_type": "code",
   "execution_count": 5,
   "id": "cfae7625",
   "metadata": {},
   "outputs": [
    {
     "name": "stdout",
     "output_type": "stream",
     "text": [
      "Wrote results for 3566 files to 'haha.csv'\n"
     ]
    },
    {
     "data": {
      "image/png": "[encoded data removed]",
      "text/plain": [
       "<Figure size 640x480 with 1 Axes>"
      ]
     },
     "metadata": {},
     "output_type": "display_data"
    }
   ],
   "source": [
    "# Example usage:\n",
    "df = compute_pixel_share('/Users/sayedmorteza/Library/CloudStorage/Box-Box/Caltech Research/Scripts/ImageTRT/Synthetic Data Generation/Results/Treatment', 'haha.csv')"
   ]
  },
  {
   "cell_type": "code",
   "execution_count": 7,
   "id": "8462873f",
   "metadata": {},
   "outputs": [
    {
     "data": {
      "application/vnd.microsoft.datawrangler.viewer.v0+json": {
       "columns": [
        {
         "name": "index",
         "rawType": "object",
         "type": "string"
        },
        {
         "name": "share_one",
         "rawType": "float64",
         "type": "float"
        },
        {
         "name": "ones",
         "rawType": "float64",
         "type": "float"
        },
        {
         "name": "total_pixels",
         "rawType": "float64",
         "type": "float"
        }
       ],
       "ref": "a9d5659b-6bfe-4fae-b33b-17fe511380ae",
       "rows": [
        [
         "count",
         "3566.0",
         "3566.0",
         "3566.0"
        ],
        [
         "mean",
         "0.10929605737537464",
         "7162.826416152552",
         "65536.0"
        ],
        [
         "std",
         "0.3091412102017612",
         "20259.878351782623",
         "0.0"
        ],
        [
         "min",
         "0.0",
         "0.0",
         "65536.0"
        ],
        [
         "25%",
         "0.0",
         "0.0",
         "65536.0"
        ],
        [
         "50%",
         "0.0",
         "0.0",
         "65536.0"
        ],
        [
         "75%",
         "0.0",
         "0.0",
         "65536.0"
        ],
        [
         "max",
         "1.0",
         "65536.0",
         "65536.0"
        ]
       ],
       "shape": {
        "columns": 3,
        "rows": 8
       }
      },
      "text/html": [
       "<div>\n",
       "<style scoped>\n",
       "    .dataframe tbody tr th:only-of-type {\n",
       "        vertical-align: middle;\n",
       "    }\n",
       "\n",
       "    .dataframe tbody tr th {\n",
       "        vertical-align: top;\n",
       "    }\n",
       "\n",
       "    .dataframe thead th {\n",
       "        text-align: right;\n",
       "    }\n",
       "</style>\n",
       "<table border=\"1\" class=\"dataframe\">\n",
       "  <thead>\n",
       "    <tr style=\"text-align: right;\">\n",
       "      <th></th>\n",
       "      <th>share_one</th>\n",
       "      <th>ones</th>\n",
       "      <th>total_pixels</th>\n",
       "    </tr>\n",
       "  </thead>\n",
       "  <tbody>\n",
       "    <tr>\n",
       "      <th>count</th>\n",
       "      <td>3566.000000</td>\n",
       "      <td>3566.000000</td>\n",
       "      <td>3566.0</td>\n",
       "    </tr>\n",
       "    <tr>\n",
       "      <th>mean</th>\n",
       "      <td>0.109296</td>\n",
       "      <td>7162.826416</td>\n",
       "      <td>65536.0</td>\n",
       "    </tr>\n",
       "    <tr>\n",
       "      <th>std</th>\n",
       "      <td>0.309141</td>\n",
       "      <td>20259.878352</td>\n",
       "      <td>0.0</td>\n",
       "    </tr>\n",
       "    <tr>\n",
       "      <th>min</th>\n",
       "      <td>0.000000</td>\n",
       "      <td>0.000000</td>\n",
       "      <td>65536.0</td>\n",
       "    </tr>\n",
       "    <tr>\n",
       "      <th>25%</th>\n",
       "      <td>0.000000</td>\n",
       "      <td>0.000000</td>\n",
       "      <td>65536.0</td>\n",
       "    </tr>\n",
       "    <tr>\n",
       "      <th>50%</th>\n",
       "      <td>0.000000</td>\n",
       "      <td>0.000000</td>\n",
       "      <td>65536.0</td>\n",
       "    </tr>\n",
       "    <tr>\n",
       "      <th>75%</th>\n",
       "      <td>0.000000</td>\n",
       "      <td>0.000000</td>\n",
       "      <td>65536.0</td>\n",
       "    </tr>\n",
       "    <tr>\n",
       "      <th>max</th>\n",
       "      <td>1.000000</td>\n",
       "      <td>65536.000000</td>\n",
       "      <td>65536.0</td>\n",
       "    </tr>\n",
       "  </tbody>\n",
       "</table>\n",
       "</div>"
      ],
      "text/plain": [
       "         share_one          ones  total_pixels\n",
       "count  3566.000000   3566.000000        3566.0\n",
       "mean      0.109296   7162.826416       65536.0\n",
       "std       0.309141  20259.878352           0.0\n",
       "min       0.000000      0.000000       65536.0\n",
       "25%       0.000000      0.000000       65536.0\n",
       "50%       0.000000      0.000000       65536.0\n",
       "75%       0.000000      0.000000       65536.0\n",
       "max       1.000000  65536.000000       65536.0"
      ]
     },
     "execution_count": 7,
     "metadata": {},
     "output_type": "execute_result"
    }
   ],
   "source": [
    "df.describe()"
   ]
  },
  {
   "cell_type": "code",
   "execution_count": 5,
   "id": "83aa76da",
   "metadata": {},
   "outputs": [
    {
     "name": "stdout",
     "output_type": "stream",
     "text": [
      "Array shape: (8, 8)\n"
     ]
    },
    {
     "data": {
      "image/png": "[encoded data removed]",
      "text/plain": [
       "<Figure size 640x480 with 1 Axes>"
      ]
     },
     "metadata": {},
     "output_type": "display_data"
    },
    {
     "name": "stdout",
     "output_type": "stream",
     "text": [
      "mean pixels: 1.3557507\n",
      "std pixels: 0.23894855\n",
      "max pixels: 1.8042618\n",
      "min pixels: 1.0493803\n",
      "total pixels: 64\n"
     ]
    }
   ],
   "source": [
    "import numpy as np\n",
    "from PIL import Image\n",
    "import matplotlib.pyplot as plt\n",
    "\n",
    "n = 3044\n",
    "\n",
    "path = f\"/Users/sayedmorteza/Library/CloudStorage/Box-Box/Hetwet_Data/Synthetic/Theta/Theta_scene_{n}.tiff\"\n",
    "\n",
    "import rasterio as rio\n",
    "\n",
    "with rio.open(path) as src:\n",
    "        arr = src.read(1)\n",
    "\n",
    "img = Image.fromarray(arr)\n",
    "print(\"Array shape:\", arr.shape)\n",
    "total_pixels = arr.size\n",
    "\n",
    "plt.imshow(arr, cmap='gray')\n",
    "plt.title(\"Raster Image\")\n",
    "plt.axis('off')\n",
    "plt.show()\n",
    "\n",
    "print(\"mean pixels:\", np.mean(arr))\n",
    "print(\"std pixels:\", np.std(arr))\n",
    "print(\"max pixels:\", np.max(arr))\n",
    "print(\"min pixels:\", np.min(arr))\n",
    "print(\"total pixels:\", total_pixels)"
   ]
  },
  {
   "cell_type": "code",
   "execution_count": 3,
   "id": "df123f18",
   "metadata": {},
   "outputs": [
    {
     "data": {
      "text/plain": [
       "array([[0.91501355, 0.86963826, 0.92978865, 0.9676278 , 0.9556921 ,\n",
       "        0.91520214, 0.8965586 , 0.89827454],\n",
       "       [0.86791325, 0.85473806, 0.87421393, 0.89969385, 0.89136755,\n",
       "        0.8864301 , 0.89633274, 0.9149107 ],\n",
       "       [0.9186495 , 0.8793188 , 0.8809833 , 0.86235046, 0.85826004,\n",
       "        0.87089086, 0.9006477 , 0.9073174 ],\n",
       "       [0.88788784, 0.8866053 , 0.8651663 , 0.8610563 , 0.8793454 ,\n",
       "        0.88102955, 0.8950472 , 0.9089735 ],\n",
       "       [0.9132053 , 0.9104811 , 0.893715  , 0.90631986, 0.9117287 ,\n",
       "        0.89742297, 0.92092055, 0.91754943],\n",
       "       [0.9117398 , 0.87830126, 0.8634055 , 0.8991793 , 0.888954  ,\n",
       "        0.88313365, 0.8993826 , 0.8720651 ],\n",
       "       [0.876698  , 0.85268337, 0.8612435 , 0.903489  , 0.93948984,\n",
       "        0.9166696 , 0.9004087 , 0.81238914],\n",
       "       [0.8846607 , 0.8787383 , 0.94624424, 0.9699706 , 0.9175837 ,\n",
       "        0.9106399 , 0.88109565, 0.729878  ]], dtype=float32)"
      ]
     },
     "execution_count": 3,
     "metadata": {},
     "output_type": "execute_result"
    }
   ],
   "source": [
    "arr"
   ]
  }
 ],
 "metadata": {
  "kernelspec": {
   "display_name": "imageTRT",
   "language": "python",
   "name": "python3"
  },
  "language_info": {
   "codemirror_mode": {
    "name": "ipython",
    "version": 3
   },
   "file_extension": ".py",
   "mimetype": "text/x-python",
   "name": "python",
   "nbconvert_exporter": "python",
   "pygments_lexer": "ipython3",
   "version": "3.10.9"
  }
 },
 "nbformat": 4,
 "nbformat_minor": 5
}
