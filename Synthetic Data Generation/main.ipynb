{
 "cells": [
  {
   "cell_type": "code",
   "execution_count": 1,
   "id": "e99430f2",
   "metadata": {
    "execution": {
     "iopub.execute_input": "2025-07-27T01:34:21.264656Z",
     "iopub.status.busy": "2025-07-27T01:34:21.264315Z",
     "iopub.status.idle": "2025-07-27T01:34:22.332316Z",
     "shell.execute_reply": "2025-07-27T01:34:22.331749Z"
    }
   },
   "outputs": [],
   "source": [
    "import pathlib\n",
    "from Utils.wetland_selection    import get_top_scenes\n",
    "from Utils.treatment_regression import logistic_process\n",
    "from Utils.outcome_syndata_generator import generate_synthetic_outcome\n",
    "from Utils.treatment_syndata_generator import generate_synthetic_treatment\n",
    "from Utils.outcome_regression import regression_process\n",
    "from Utils.convolution import make_exp_kernel\n",
    "from Utils.outcome_post import generate_post\n",
    "import numpy as np"
   ]
  },
  {
   "cell_type": "code",
   "execution_count": 2,
   "id": "7051b700",
   "metadata": {
    "execution": {
     "iopub.execute_input": "2025-07-27T01:34:22.334673Z",
     "iopub.status.busy": "2025-07-27T01:34:22.334252Z",
     "iopub.status.idle": "2025-07-27T01:34:22.337542Z",
     "shell.execute_reply": "2025-07-27T01:34:22.337127Z"
    }
   },
   "outputs": [],
   "source": [
    "# define folder paths for rasters\n",
    "DATA_DIR = pathlib.Path('/home/sm79829/Hetwet/Data/Real')    \n",
    "SYNDATA_DIR = pathlib.Path(\"/home/sm79829/Hetwet/Data/Synthetic\")          \n",
    "\n",
    "# folders\n",
    "folders = {\n",
    "    'wet': DATA_DIR / 'WETLAND_DEV_1996_2016',\n",
    "    'dem': SYNDATA_DIR / 'DEM',\n",
    "    'cap': SYNDATA_DIR / 'CAPITAL_1996',\n",
    "    'claims_96': DATA_DIR / 'LOG_CLAIMS_1996',\n",
    "    'claims_16': DATA_DIR / 'LOG_CLAIMS_2016',\n",
    "\n",
    "}"
   ]
  },
  {
   "cell_type": "code",
   "execution_count": 3,
   "id": "6ab06dfd",
   "metadata": {
    "execution": {
     "iopub.execute_input": "2025-07-27T01:34:22.339037Z",
     "iopub.status.busy": "2025-07-27T01:34:22.338662Z",
     "iopub.status.idle": "2025-07-27T01:34:22.340804Z",
     "shell.execute_reply": "2025-07-27T01:34:22.340407Z"
    }
   },
   "outputs": [],
   "source": [
    "# # top scenes by wetland development\n",
    "# top_df = get_top_scenes(num_scenes=3566)\n",
    "# scene_ids = top_df['scene'].astype(str).tolist()"
   ]
  },
  {
   "cell_type": "code",
   "execution_count": 3,
   "id": "d6ad480f",
   "metadata": {
    "execution": {
     "iopub.execute_input": "2025-07-27T01:34:22.342224Z",
     "iopub.status.busy": "2025-07-27T01:34:22.341894Z",
     "iopub.status.idle": "2025-07-27T01:34:22.347398Z",
     "shell.execute_reply": "2025-07-27T01:34:22.346983Z"
    }
   },
   "outputs": [],
   "source": [
    "import pandas as pd\n",
    "\n",
    "# Only select the scenes with valid ids in cap and dem\n",
    "valid_dem_ids = pd.read_csv(folders['dem'] / \"valid_ids_dem.csv\").iloc[:, 0].tolist()\n",
    "valid_cap_ids = pd.read_csv(folders['cap'] / \"valid_ids_cap.csv\").iloc[:, 0].tolist()"
   ]
  },
  {
   "cell_type": "code",
   "execution_count": 4,
   "id": "975bf96e",
   "metadata": {
    "execution": {
     "iopub.execute_input": "2025-07-27T01:34:22.348872Z",
     "iopub.status.busy": "2025-07-27T01:34:22.348538Z",
     "iopub.status.idle": "2025-07-27T01:34:22.352211Z",
     "shell.execute_reply": "2025-07-27T01:34:22.351780Z"
    }
   },
   "outputs": [
    {
     "name": "stdout",
     "output_type": "stream",
     "text": [
      "Number of intersection of valid IDs: 2195\n"
     ]
    }
   ],
   "source": [
    "# Intersectino of both valid lists\n",
    "scene_ids = sorted(set(valid_cap_ids) & set(valid_dem_ids), key=int)\n",
    "scene_ids = list([str(i) for i in sorted(scene_ids)])\n",
    "print(f\"Number of intersection of valid IDs: {len(scene_ids)}\")"
   ]
  },
  {
   "cell_type": "code",
   "execution_count": 5,
   "id": "325c380c",
   "metadata": {
    "execution": {
     "iopub.execute_input": "2025-07-27T01:34:22.353678Z",
     "iopub.status.busy": "2025-07-27T01:34:22.353316Z",
     "iopub.status.idle": "2025-07-27T01:36:02.412733Z",
     "shell.execute_reply": "2025-07-27T01:36:02.412000Z"
    }
   },
   "outputs": [],
   "source": [
    "# estimate treatment logistic regression parameters\n",
    "theta = 0.5  # classification threshold\n",
    "logit_res = logistic_process(\n",
    "    scene_ids=scene_ids,\n",
    "    folders=folders,\n",
    "    threshold=theta,\n",
    "    regularization_C=1.0,\n",
    "    noise_type='gaussian',\n",
    "    noise_sd=0.005,\n",
    "    verbose=False,\n",
    "    results_dir = \"/home/sm79829/Hetwet/Data/Synthetic_2\"\n",
    ")"
   ]
  },
  {
   "cell_type": "code",
   "execution_count": 6,
   "id": "24e2eef0",
   "metadata": {
    "execution": {
     "iopub.execute_input": "2025-07-27T01:36:02.414964Z",
     "iopub.status.busy": "2025-07-27T01:36:02.414699Z",
     "iopub.status.idle": "2025-07-27T01:36:31.121662Z",
     "shell.execute_reply": "2025-07-27T01:36:31.120919Z"
    }
   },
   "outputs": [],
   "source": [
    "# generate synthetic treatment\n",
    "generate_synthetic_treatment(\n",
    "    scene_ids=scene_ids,\n",
    "    folders=folders,\n",
    "    logit_pipe=logit_res,\n",
    "    threshold=theta,\n",
    "    noise_sd=0.005,\n",
    "    noise_type='gaussian',\n",
    "    results_dir = \"/home/sm79829/Hetwet/Data/Synthetic_2\"\n",
    ")\n"
   ]
  },
  {
   "cell_type": "code",
   "execution_count": 7,
   "id": "b89a28d9",
   "metadata": {
    "execution": {
     "iopub.execute_input": "2025-07-27T01:36:31.123670Z",
     "iopub.status.busy": "2025-07-27T01:36:31.123382Z",
     "iopub.status.idle": "2025-07-27T01:36:46.951641Z",
     "shell.execute_reply": "2025-07-27T01:36:46.951070Z"
    }
   },
   "outputs": [],
   "source": [
    "# estimate outcome linear regression parameters\n",
    "outcome_reg = regression_process(\n",
    "    scene_ids=scene_ids,\n",
    "    folders=folders,\n",
    "    noise_sd=0.1,\n",
    "    noise_type='gaussian',\n",
    "    verbose=False,\n",
    "    results_dir = \"/home/sm79829/Hetwet/Data/Synthetic_2\"\n",
    ")"
   ]
  },
  {
   "cell_type": "code",
   "execution_count": 8,
   "id": "adabcf8d",
   "metadata": {
    "execution": {
     "iopub.execute_input": "2025-07-27T01:36:46.953722Z",
     "iopub.status.busy": "2025-07-27T01:36:46.953486Z",
     "iopub.status.idle": "2025-07-27T01:37:04.713778Z",
     "shell.execute_reply": "2025-07-27T01:37:04.713080Z"
    }
   },
   "outputs": [],
   "source": [
    "# generate synthetic baseline outcomes:\n",
    "generate_synthetic_outcome(\n",
    "    scene_ids = scene_ids,\n",
    "    folders = folders,\n",
    "    reg_pipe = outcome_reg,\n",
    "    target_shape = (8, 8),\n",
    "    noise_type = \"gaussian\",\n",
    "    noise_sd = 0.1,\n",
    "    results_dir = \"/home/sm79829/Hetwet/Data/Synthetic_2\"\n",
    ")"
   ]
  },
  {
   "cell_type": "code",
   "execution_count": 9,
   "id": "30a9559a",
   "metadata": {
    "execution": {
     "iopub.execute_input": "2025-07-27T01:37:04.715777Z",
     "iopub.status.busy": "2025-07-27T01:37:04.715524Z",
     "iopub.status.idle": "2025-07-27T01:37:04.719276Z",
     "shell.execute_reply": "2025-07-27T01:37:04.718846Z"
    }
   },
   "outputs": [
    {
     "name": "stdout",
     "output_type": "stream",
     "text": [
      "Number of Affected Nearby Squares: (13, 13)\n"
     ]
    }
   ],
   "source": [
    "# build your spillover kernel\n",
    "CELL_SIZE = 30 # cell size in meters\n",
    "LAMBDA    = 200.0\n",
    "TRUNCATE = 1\n",
    "KERNEL    = make_exp_kernel(lam_m=LAMBDA, cell_size_m=CELL_SIZE, truncate=TRUNCATE)\n",
    "print(f\"Number of Affected Nearby Squares: {KERNEL.shape}\")"
   ]
  },
  {
   "cell_type": "code",
   "execution_count": 10,
   "id": "8047660a",
   "metadata": {
    "execution": {
     "iopub.execute_input": "2025-07-27T01:37:04.720595Z",
     "iopub.status.busy": "2025-07-27T01:37:04.720348Z",
     "iopub.status.idle": "2025-07-27T02:33:55.401463Z",
     "shell.execute_reply": "2025-07-27T02:33:55.400704Z"
    }
   },
   "outputs": [
    {
     "name": "stdout",
     "output_type": "stream",
     "text": [
      "Using Actual Covariates (No Scaling)\n"
     ]
    },
    {
     "name": "stderr",
     "output_type": "stream",
     "text": [
      "/home/sm79829/.conda/envs/ImageTRT/lib/python3.11/site-packages/rasterio/__init__.py:356: NotGeoreferencedWarning: Dataset has no geotransform, gcps, or rpcs. The identity matrix will be returned.\n",
      "  dataset = DatasetReader(path, driver=driver, sharing=sharing, **kwargs)\n",
      "/home/sm79829/.conda/envs/ImageTRT/lib/python3.11/site-packages/rasterio/__init__.py:356: NotGeoreferencedWarning: Dataset has no geotransform, gcps, or rpcs. The identity matrix will be returned.\n",
      "  dataset = DatasetReader(path, driver=driver, sharing=sharing, **kwargs)\n",
      "/home/sm79829/.conda/envs/ImageTRT/lib/python3.11/site-packages/rasterio/__init__.py:356: NotGeoreferencedWarning: Dataset has no geotransform, gcps, or rpcs. The identity matrix will be returned.\n",
      "  dataset = DatasetReader(path, driver=driver, sharing=sharing, **kwargs)\n",
      "/home/sm79829/.conda/envs/ImageTRT/lib/python3.11/site-packages/rasterio/__init__.py:356: NotGeoreferencedWarning: Dataset has no geotransform, gcps, or rpcs. The identity matrix will be returned.\n",
      "  dataset = DatasetReader(path, driver=driver, sharing=sharing, **kwargs)\n",
      "/home/sm79829/.conda/envs/ImageTRT/lib/python3.11/site-packages/rasterio/__init__.py:356: NotGeoreferencedWarning: Dataset has no geotransform, gcps, or rpcs. The identity matrix will be returned.\n",
      "  dataset = DatasetReader(path, driver=driver, sharing=sharing, **kwargs)\n",
      "/home/sm79829/.conda/envs/ImageTRT/lib/python3.11/site-packages/rasterio/__init__.py:356: NotGeoreferencedWarning: Dataset has no geotransform, gcps, or rpcs. The identity matrix will be returned.\n",
      "  dataset = DatasetReader(path, driver=driver, sharing=sharing, **kwargs)\n"
     ]
    }
   ],
   "source": [
    "generate_post(\n",
    "    scene_ids=scene_ids,\n",
    "    folders=folders,\n",
    "    KERNEL=KERNEL,\n",
    "    Bbase = 0.6,   # baseline: 60 % reduction in damages\n",
    "    Beta1 = 0.07,  # cap: each +1 SD of cap strengthens reduction by ~7 % of baseline\n",
    "    Beta2 = -0.04, # dem: each +1 SD of dem strengthens reduction by ~4 % of baseline\n",
    "    noise_sd = 0.1,\n",
    "    results_dir = \"/home/sm79829/Hetwet/Data/Synthetic_2\"\n",
    ")"
   ]
  }
 ],
 "metadata": {
  "kernelspec": {
   "display_name": "ImageTRT",
   "language": "python",
   "name": "python3"
  },
  "language_info": {
   "codemirror_mode": {
    "name": "ipython",
    "version": 3
   },
   "file_extension": ".py",
   "mimetype": "text/x-python",
   "name": "python",
   "nbconvert_exporter": "python",
   "pygments_lexer": "ipython3",
   "version": "3.11.13"
  }
 },
 "nbformat": 4,
 "nbformat_minor": 5
}
