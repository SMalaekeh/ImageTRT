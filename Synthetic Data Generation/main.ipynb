{
 "cells": [
  {
   "cell_type": "code",
   "execution_count": 2,
   "id": "e99430f2",
   "metadata": {},
   "outputs": [],
   "source": [
    "import pathlib\n",
    "from Utils.wetland_selection    import get_top_scenes\n",
    "from Utils.treatment_regression import logistic_process\n",
    "from Utils.outcome_syndata_generator import generate_synthetic_outcome\n",
    "from Utils.treatment_syndata_generator import generate_synthetic_treatment\n",
    "from Utils.outcome_regression import regression_process\n",
    "from Utils.convolution import make_exp_kernel\n",
    "from Utils.outcome_post import generate_post\n",
    "import numpy as np"
   ]
  },
  {
   "cell_type": "code",
   "execution_count": 3,
   "id": "6ab06dfd",
   "metadata": {},
   "outputs": [],
   "source": [
    "# top scenes by wetland development\n",
    "top_df = get_top_scenes(num_scenes=3566)\n",
    "scene_ids = top_df['scene'].astype(str).tolist()\n",
    "\n",
    "# define folder paths for rasters\n",
    "DATA_DIR = pathlib.Path('/Users/sayedmorteza/Library/CloudStorage/Box-Box/Hetwet_Data')         \n",
    "\n",
    "# folders\n",
    "folders = {\n",
    "    'wet': DATA_DIR / 'WETLAND_DEV_1996_2016',\n",
    "    'dem': DATA_DIR / 'DEM',\n",
    "    'cap': DATA_DIR / 'CAPITAL_1996',\n",
    "    'claims_96': DATA_DIR / 'LOG_CLAIMS_1996',\n",
    "    'claims_16': DATA_DIR / 'LOG_CLAIMS_2016',\n",
    "\n",
    "}"
   ]
  },
  {
   "cell_type": "code",
   "execution_count": 3,
   "id": "325c380c",
   "metadata": {},
   "outputs": [],
   "source": [
    "# estimate treatment logistic regression parameters\n",
    "theta = 0.5  # classification threshold\n",
    "logit_res = logistic_process(\n",
    "    scene_ids=scene_ids,\n",
    "    folders=folders,\n",
    "    threshold=theta,\n",
    "    regularization_C=1.0,\n",
    "    noise_type='gaussian',\n",
    "    noise_sd=0.005,\n",
    "    verbose=False\n",
    ")"
   ]
  },
  {
   "cell_type": "code",
   "execution_count": 4,
   "id": "24e2eef0",
   "metadata": {},
   "outputs": [],
   "source": [
    "# generate synthetic treatment\n",
    "generate_synthetic_treatment(\n",
    "    scene_ids=scene_ids,\n",
    "    folders=folders,\n",
    "    logit_pipe=logit_res,\n",
    "    threshold=theta,\n",
    "    noise_sd=0.005,\n",
    "    noise_type='gaussian'\n",
    ")\n"
   ]
  },
  {
   "cell_type": "code",
   "execution_count": 3,
   "id": "b89a28d9",
   "metadata": {},
   "outputs": [],
   "source": [
    "# estimate outcome linear regression parameters\n",
    "outcome_reg = regression_process(\n",
    "    scene_ids=scene_ids,\n",
    "    folders=folders,\n",
    "    noise_sd=0.1,\n",
    "    noise_type='gaussian',\n",
    "    verbose=False\n",
    ")"
   ]
  },
  {
   "cell_type": "code",
   "execution_count": 4,
   "id": "adabcf8d",
   "metadata": {},
   "outputs": [],
   "source": [
    "# generate synthetic baseline outcomes:\n",
    "generate_synthetic_outcome(\n",
    "    scene_ids = scene_ids,\n",
    "    folders = folders,\n",
    "    reg_pipe = outcome_reg,\n",
    "    target_shape = (8, 8),\n",
    "    noise_type = \"gaussian\",\n",
    "    noise_sd = 0.1,\n",
    "    results_dir = None\n",
    ")"
   ]
  },
  {
   "cell_type": "code",
   "execution_count": 4,
   "id": "30a9559a",
   "metadata": {},
   "outputs": [
    {
     "name": "stdout",
     "output_type": "stream",
     "text": [
      "Number of Affected Nearby Squares: (7, 7)\n"
     ]
    }
   ],
   "source": [
    "# build your spillover kernel\n",
    "CELL_SIZE = 30 # cell size in meters\n",
    "LAMBDA    = 100.0\n",
    "TRUNCATE = 1\n",
    "KERNEL    = make_exp_kernel(lam_m=LAMBDA, cell_size_m=CELL_SIZE, truncate=TRUNCATE)\n",
    "print(f\"Number of Affected Nearby Squares: {KERNEL.shape}\")"
   ]
  },
  {
   "cell_type": "code",
   "execution_count": 5,
   "id": "8047660a",
   "metadata": {},
   "outputs": [
    {
     "name": "stderr",
     "output_type": "stream",
     "text": [
      "/opt/miniconda3/envs/imageTRT/lib/python3.10/site-packages/rasterio/__init__.py:356: NotGeoreferencedWarning: Dataset has no geotransform, gcps, or rpcs. The identity matrix will be returned.\n",
      "  dataset = DatasetReader(path, driver=driver, sharing=sharing, **kwargs)\n",
      "/opt/miniconda3/envs/imageTRT/lib/python3.10/site-packages/rasterio/__init__.py:356: NotGeoreferencedWarning: Dataset has no geotransform, gcps, or rpcs. The identity matrix will be returned.\n",
      "  dataset = DatasetReader(path, driver=driver, sharing=sharing, **kwargs)\n",
      "/opt/miniconda3/envs/imageTRT/lib/python3.10/site-packages/rasterio/__init__.py:356: NotGeoreferencedWarning: Dataset has no geotransform, gcps, or rpcs. The identity matrix will be returned.\n",
      "  dataset = DatasetReader(path, driver=driver, sharing=sharing, **kwargs)\n",
      "/opt/miniconda3/envs/imageTRT/lib/python3.10/site-packages/rasterio/__init__.py:356: NotGeoreferencedWarning: Dataset has no geotransform, gcps, or rpcs. The identity matrix will be returned.\n",
      "  dataset = DatasetReader(path, driver=driver, sharing=sharing, **kwargs)\n",
      "/opt/miniconda3/envs/imageTRT/lib/python3.10/site-packages/rasterio/__init__.py:356: NotGeoreferencedWarning: Dataset has no geotransform, gcps, or rpcs. The identity matrix will be returned.\n",
      "  dataset = DatasetReader(path, driver=driver, sharing=sharing, **kwargs)\n",
      "/opt/miniconda3/envs/imageTRT/lib/python3.10/site-packages/rasterio/__init__.py:356: NotGeoreferencedWarning: Dataset has no geotransform, gcps, or rpcs. The identity matrix will be returned.\n",
      "  dataset = DatasetReader(path, driver=driver, sharing=sharing, **kwargs)\n"
     ]
    }
   ],
   "source": [
    "generate_post(\n",
    "    scene_ids=scene_ids,\n",
    "    folders=folders,\n",
    "    KERNEL=KERNEL,\n",
    "    Bbase = 0.5,\n",
    "    Beta1 = 0.05,\n",
    "    Beta2 = 2.5\n",
    ")"
   ]
  }
 ],
 "metadata": {
  "kernelspec": {
   "display_name": "imageTRT",
   "language": "python",
   "name": "python3"
  },
  "language_info": {
   "codemirror_mode": {
    "name": "ipython",
    "version": 3
   },
   "file_extension": ".py",
   "mimetype": "text/x-python",
   "name": "python",
   "nbconvert_exporter": "python",
   "pygments_lexer": "ipython3",
   "version": "3.10.9"
  }
 },
 "nbformat": 4,
 "nbformat_minor": 5
}
