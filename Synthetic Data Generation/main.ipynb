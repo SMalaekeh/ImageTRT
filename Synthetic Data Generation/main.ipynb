{
 "cells": [
  {
   "cell_type": "code",
   "execution_count": 1,
   "id": "e99430f2",
   "metadata": {},
   "outputs": [],
   "source": [
    "import pathlib\n",
    "from Utils.wetland_selection    import get_top_scenes\n",
    "from Utils.treatment_regression import logistic_process\n",
    "from Utils.outcome_syndata_generator import generate_synthetic_outcome\n",
    "from Utils.treatment_syndata_generator import generate_synthetic_treatment\n",
    "from Utils.outcome_regression import regression_process\n",
    "from Utils.convolution import make_exp_kernel\n",
    "from Utils.outcome_post import generate_post\n",
    "import numpy as np"
   ]
  },
  {
   "cell_type": "code",
   "execution_count": 2,
   "id": "6ab06dfd",
   "metadata": {},
   "outputs": [],
   "source": [
    "# top scenes by wetland development\n",
    "top_df = get_top_scenes(num_scenes=5)\n",
    "scene_ids = top_df['scene'].astype(str).tolist()\n",
    "\n",
    "# define folder paths for rasters\n",
    "DATA_DIR = pathlib.Path('/Users/sayedmorteza/Library/CloudStorage/Box-Box/Hetwet_Data')         \n",
    "\n",
    "# folders\n",
    "folders = {\n",
    "    'wet': DATA_DIR / 'WETLAND_DEV_1996_2016',\n",
    "    'dem': DATA_DIR / 'DEM',\n",
    "    'cap': DATA_DIR / 'CAPITAL_1996',\n",
    "    'claims_96': DATA_DIR / 'LOG_CLAIMS_1996',\n",
    "    'claims_16': DATA_DIR / 'LOG_CLAIMS_2016',\n",
    "\n",
    "}"
   ]
  },
  {
   "cell_type": "code",
   "execution_count": 3,
   "id": "325c380c",
   "metadata": {},
   "outputs": [
    {
     "name": "stderr",
     "output_type": "stream",
     "text": [
      "INFO: Processing scene 3043\n",
      "INFO: Processing scene 2985\n",
      "INFO: Processing scene 3095\n",
      "INFO: Processing scene 2779\n",
      "INFO: Processing scene 2922\n",
      "INFO: Coefficients saved to /Users/sayedmorteza/Library/CloudStorage/Box-Box/Caltech Research/Scripts/ImageTRT/Synthetic Data Generation/Results/treatment_logistic_coeffs.txt\n",
      "INFO: Maps saved to /Users/sayedmorteza/Library/CloudStorage/Box-Box/Caltech Research/Scripts/ImageTRT/Synthetic Data Generation/Results/scene_3043_treatment_maps.pdf\n"
     ]
    }
   ],
   "source": [
    "# estimate treatment logistic regression parameters\n",
    "theta = 0.5  # classification threshold\n",
    "logit_res = logistic_process(\n",
    "    scene_ids=scene_ids,\n",
    "    folders=folders,\n",
    "    threshold=theta,\n",
    "    regularization_C=1.0,\n",
    "    noise_sd=0.1,\n",
    "    noise_type='gaussian'\n",
    ")"
   ]
  },
  {
   "cell_type": "code",
   "execution_count": 4,
   "id": "24e2eef0",
   "metadata": {},
   "outputs": [
    {
     "name": "stderr",
     "output_type": "stream",
     "text": [
      "INFO: [gaussian] Saved synthetic for 3043\n",
      "INFO: [gaussian] Saved synthetic for 2985\n",
      "INFO: [gaussian] Saved synthetic for 3095\n",
      "INFO: [gaussian] Saved synthetic for 2779\n",
      "INFO: [gaussian] Saved synthetic for 2922\n",
      "INFO: All outputs written to /Users/sayedmorteza/Library/CloudStorage/Box-Box/Caltech Research/Scripts/ImageTRT/Synthetic Data Generation/Results\n"
     ]
    }
   ],
   "source": [
    "# generate synthetic treatment\n",
    "generate_synthetic_treatment(\n",
    "    scene_ids=scene_ids,\n",
    "    folders=folders,\n",
    "    logit_pipe=logit_res,\n",
    "    threshold=theta,\n",
    "    noise_sd=0.1,\n",
    "    noise_type='gaussian'\n",
    ")\n"
   ]
  },
  {
   "cell_type": "code",
   "execution_count": 5,
   "id": "b89a28d9",
   "metadata": {},
   "outputs": [
    {
     "name": "stderr",
     "output_type": "stream",
     "text": [
      "INFO: Loading scene 3043\n",
      "INFO: Loading scene 2985\n",
      "INFO: Loading scene 3095\n",
      "INFO: Loading scene 2779\n",
      "INFO: Loading scene 2922\n",
      "INFO: Coefficients saved to /Users/sayedmorteza/Library/CloudStorage/Box-Box/Caltech Research/Scripts/ImageTRT/Synthetic Data Generation/Results/outcome_regression_coeffs.txt\n",
      "INFO: Maps saved to /Users/sayedmorteza/Library/CloudStorage/Box-Box/Caltech Research/Scripts/ImageTRT/Synthetic Data Generation/Results/scene_3043_continuous_outcome.pdf\n"
     ]
    }
   ],
   "source": [
    "# estimate outcome linear regression parameters\n",
    "outcome_reg = regression_process(\n",
    "    scene_ids=scene_ids,\n",
    "    folders=folders,\n",
    "    noise_sd=0.1,\n",
    "    noise_type='gaussian'\n",
    ")"
   ]
  },
  {
   "cell_type": "code",
   "execution_count": 6,
   "id": "adabcf8d",
   "metadata": {},
   "outputs": [
    {
     "name": "stderr",
     "output_type": "stream",
     "text": [
      "INFO: [3043] Saved synthetic → scene_3043_synthetic_gaussian.tiff\n",
      "INFO: [3043] Saved comparison PDF → 3043_comparison_gaussian.pdf\n",
      "INFO: [2985] Saved synthetic → scene_2985_synthetic_gaussian.tiff\n",
      "INFO: [2985] Saved comparison PDF → 2985_comparison_gaussian.pdf\n",
      "INFO: [3095] Saved synthetic → scene_3095_synthetic_gaussian.tiff\n",
      "INFO: [3095] Saved comparison PDF → 3095_comparison_gaussian.pdf\n",
      "INFO: [2779] Saved synthetic → scene_2779_synthetic_gaussian.tiff\n",
      "INFO: [2779] Saved comparison PDF → 2779_comparison_gaussian.pdf\n",
      "INFO: [2922] Saved synthetic → scene_2922_synthetic_gaussian.tiff\n",
      "INFO: [2922] Saved comparison PDF → 2922_comparison_gaussian.pdf\n",
      "INFO: All outcome TIFFs and PDFs written to /Users/sayedmorteza/Library/CloudStorage/Box-Box/Caltech Research/Scripts/ImageTRT/Synthetic Data Generation/Results/Outcome\n"
     ]
    }
   ],
   "source": [
    "# generate synthetic outcomes:\n",
    "generate_synthetic_outcome(\n",
    "    scene_ids = scene_ids,\n",
    "    folders = folders,\n",
    "    reg_pipe = outcome_reg,\n",
    "    target_shape = (8, 8),\n",
    "    noise_type = \"gaussian\",\n",
    "    noise_sd = 0.2,\n",
    "    results_dir = None\n",
    ")"
   ]
  },
  {
   "cell_type": "code",
   "execution_count": 7,
   "id": "30a9559a",
   "metadata": {},
   "outputs": [],
   "source": [
    "# build your spillover kernel\n",
    "CELL_SIZE = 960 # cell size in meters\n",
    "LAMBDA    = 5000.0\n",
    "KERNEL    = make_exp_kernel(lam_m=LAMBDA, cell_size_m=CELL_SIZE, truncate=4)"
   ]
  },
  {
   "cell_type": "code",
   "execution_count": 8,
   "id": "8047660a",
   "metadata": {},
   "outputs": [
    {
     "name": "stderr",
     "output_type": "stream",
     "text": [
      "/opt/miniconda3/envs/imageTRT/lib/python3.10/site-packages/rasterio/__init__.py:356: NotGeoreferencedWarning: Dataset has no geotransform, gcps, or rpcs. The identity matrix will be returned.\n",
      "  dataset = DatasetReader(path, driver=driver, sharing=sharing, **kwargs)\n",
      "INFO: [3043] Saved post outcome coarse → scene_3043_post_gaussian.tiff\n",
      "INFO: [3043] Saved ITE coarse → scene_3043_ITE.tiff\n",
      "INFO: [3043] Saved comparison PDF → 3043_comparison_gaussian.pdf\n",
      "/opt/miniconda3/envs/imageTRT/lib/python3.10/site-packages/rasterio/__init__.py:356: NotGeoreferencedWarning: Dataset has no geotransform, gcps, or rpcs. The identity matrix will be returned.\n",
      "  dataset = DatasetReader(path, driver=driver, sharing=sharing, **kwargs)\n",
      "INFO: [2985] Saved post outcome coarse → scene_2985_post_gaussian.tiff\n",
      "INFO: [2985] Saved ITE coarse → scene_2985_ITE.tiff\n",
      "INFO: [2985] Saved comparison PDF → 2985_comparison_gaussian.pdf\n",
      "/opt/miniconda3/envs/imageTRT/lib/python3.10/site-packages/rasterio/__init__.py:356: NotGeoreferencedWarning: Dataset has no geotransform, gcps, or rpcs. The identity matrix will be returned.\n",
      "  dataset = DatasetReader(path, driver=driver, sharing=sharing, **kwargs)\n",
      "INFO: [3095] Saved post outcome coarse → scene_3095_post_gaussian.tiff\n",
      "INFO: [3095] Saved ITE coarse → scene_3095_ITE.tiff\n",
      "INFO: [3095] Saved comparison PDF → 3095_comparison_gaussian.pdf\n",
      "/opt/miniconda3/envs/imageTRT/lib/python3.10/site-packages/rasterio/__init__.py:356: NotGeoreferencedWarning: Dataset has no geotransform, gcps, or rpcs. The identity matrix will be returned.\n",
      "  dataset = DatasetReader(path, driver=driver, sharing=sharing, **kwargs)\n",
      "INFO: [2779] Saved post outcome coarse → scene_2779_post_gaussian.tiff\n",
      "INFO: [2779] Saved ITE coarse → scene_2779_ITE.tiff\n",
      "INFO: [2779] Saved comparison PDF → 2779_comparison_gaussian.pdf\n",
      "/opt/miniconda3/envs/imageTRT/lib/python3.10/site-packages/rasterio/__init__.py:356: NotGeoreferencedWarning: Dataset has no geotransform, gcps, or rpcs. The identity matrix will be returned.\n",
      "  dataset = DatasetReader(path, driver=driver, sharing=sharing, **kwargs)\n",
      "INFO: [2922] Saved post outcome coarse → scene_2922_post_gaussian.tiff\n",
      "INFO: [2922] Saved ITE coarse → scene_2922_ITE.tiff\n",
      "INFO: [2922] Saved comparison PDF → 2922_comparison_gaussian.pdf\n"
     ]
    }
   ],
   "source": [
    "generate_post(\n",
    "    scene_ids=scene_ids,\n",
    "    folders=folders,\n",
    "    KERNEL=KERNEL,\n",
    "    Bbase = 0.02,\n",
    "    Beta1 = 0.1,\n",
    "    Beta2 = 1\n",
    ")"
   ]
  }
 ],
 "metadata": {
  "kernelspec": {
   "display_name": "imageTRT",
   "language": "python",
   "name": "python3"
  },
  "language_info": {
   "codemirror_mode": {
    "name": "ipython",
    "version": 3
   },
   "file_extension": ".py",
   "mimetype": "text/x-python",
   "name": "python",
   "nbconvert_exporter": "python",
   "pygments_lexer": "ipython3",
   "version": "3.10.9"
  }
 },
 "nbformat": 4,
 "nbformat_minor": 5
}
