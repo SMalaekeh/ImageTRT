{
 "cells": [
  {
   "cell_type": "code",
   "execution_count": 1,
   "id": "e99430f2",
   "metadata": {},
   "outputs": [],
   "source": [
    "import pathlib\n",
    "from Utils.wetland_selection    import get_top_scenes\n",
    "from Utils.treatment_regression import logistic_process\n",
    "from Utils.syndata_generator import generate_synthetic_wetland\n",
    "import numpy as np"
   ]
  },
  {
   "cell_type": "code",
   "execution_count": null,
   "id": "6ab06dfd",
   "metadata": {},
   "outputs": [],
   "source": [
    "# top scenes by wetland development\n",
    "top_df = get_top_scenes(num_scenes=5)\n",
    "scene_ids = top_df['scene'].astype(str).tolist()\n",
    "\n",
    "# Step 2: Define folder paths for rasters\n",
    "DATA_DIR = pathlib.Path('/Users/sayedmorteza/Library/CloudStorage/Box-Box/Hetwet_Data')         \n",
    "\n",
    "# folders\n",
    "folders = {\n",
    "    'wet': DATA_DIR / 'WETLAND_DEV_1996_2016',\n",
    "    'dem': DATA_DIR / 'DEM',\n",
    "    'cap': DATA_DIR / 'CAPITAL_1996',\n",
    "    'claims_96': DATA_DIR / 'LOG_CLAIMS_1996',\n",
    "    'claims_16': DATA_DIR / 'LOG_CLAIMS_2016',\n",
    "\n",
    "}"
   ]
  },
  {
   "cell_type": "code",
   "execution_count": 3,
   "id": "325c380c",
   "metadata": {},
   "outputs": [
    {
     "name": "stderr",
     "output_type": "stream",
     "text": [
      "INFO: Processing scene 3043\n",
      "INFO: Processing scene 2985\n",
      "INFO: Processing scene 3095\n",
      "INFO: Processing scene 2779\n",
      "INFO: Processing scene 2922\n",
      "INFO: Coefficients saved to /Users/sayedmorteza/Library/CloudStorage/Box-Box/Caltech Research/Scripts/ImageTRT/Synthetic Data Generation/Results/logistic_coeffs.txt\n",
      "INFO: Maps saved to /Users/sayedmorteza/Library/CloudStorage/Box-Box/Caltech Research/Scripts/ImageTRT/Synthetic Data Generation/Results/scene_3043_logistic_maps.pdf\n"
     ]
    }
   ],
   "source": [
    "# Step 3: Run logistic regression on selected scenes\n",
    "theta = 0.5  # classification threshold\n",
    "logit_res = logistic_process(\n",
    "    scene_ids=scene_ids,\n",
    "    folders=folders,\n",
    "    threshold=theta,\n",
    "    regularization_C=1.0,\n",
    "    noise_sd=0.1,\n",
    "    noise_type='gaussian'\n",
    ")"
   ]
  },
  {
   "cell_type": "code",
   "execution_count": 4,
   "id": "24e2eef0",
   "metadata": {},
   "outputs": [
    {
     "name": "stderr",
     "output_type": "stream",
     "text": [
      "INFO: [gaussian] Saved synthetic for 3043\n",
      "INFO: [gaussian] Saved synthetic for 2985\n",
      "INFO: [gaussian] Saved synthetic for 3095\n",
      "INFO: [gaussian] Saved synthetic for 2779\n",
      "INFO: [gaussian] Saved synthetic for 2922\n",
      "INFO: All outputs written to /Users/sayedmorteza/Library/CloudStorage/Box-Box/Caltech Research/Scripts/ImageTRT/Synthetic Data Generation/Results\n"
     ]
    },
    {
     "name": "stdout",
     "output_type": "stream",
     "text": [
      "Completed: logistic model fitted and synthetic wetland maps generated.\n"
     ]
    }
   ],
   "source": [
    "# Step 4: Generate synthetic wetland TIFFs (and PDFs for 5 random scenes)\n",
    "generate_synthetic_wetland(\n",
    "    scene_ids=scene_ids,\n",
    "    folders=folders,\n",
    "    logit_pipe=logit_res,\n",
    "    threshold=theta,\n",
    "    noise_sd=0.1,\n",
    "    noise_type='gaussian'\n",
    ")\n",
    "\n",
    "print(\"Completed: logistic model fitted and synthetic wetland maps generated.\")\n"
   ]
  },
  {
   "cell_type": "code",
   "execution_count": null,
   "id": "b89a28d9",
   "metadata": {},
   "outputs": [],
   "source": []
  }
 ],
 "metadata": {
  "kernelspec": {
   "display_name": "imageTRT",
   "language": "python",
   "name": "python3"
  },
  "language_info": {
   "codemirror_mode": {
    "name": "ipython",
    "version": 3
   },
   "file_extension": ".py",
   "mimetype": "text/x-python",
   "name": "python",
   "nbconvert_exporter": "python",
   "pygments_lexer": "ipython3",
   "version": "3.10.9"
  }
 },
 "nbformat": 4,
 "nbformat_minor": 5
}
