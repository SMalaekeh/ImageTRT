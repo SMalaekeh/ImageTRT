{
 "cells": [
  {
   "cell_type": "code",
   "execution_count": 1,
   "id": "e99430f2",
   "metadata": {},
   "outputs": [],
   "source": [
    "import pathlib\n",
    "from Utils.wetland_selection    import get_top_scenes\n",
    "from Utils.treatment_regression import logistic_process\n",
    "from Utils.outcome_syndata_generator import generate_synthetic_outcome\n",
    "from Utils.treatment_syndata_generator import generate_synthetic_treatment\n",
    "from Utils.outcome_regression import regression_process\n",
    "from Utils.convolution import make_exp_kernel\n",
    "from Utils.outcome_post import generate_post\n",
    "import numpy as np"
   ]
  },
  {
   "cell_type": "code",
   "execution_count": 2,
   "id": "6ab06dfd",
   "metadata": {},
   "outputs": [],
   "source": [
    "# top scenes by wetland development\n",
    "top_df = get_top_scenes(num_scenes=3566)\n",
    "scene_ids = top_df['scene'].astype(str).tolist()\n",
    "\n",
    "# define folder paths for rasters\n",
    "DATA_DIR = pathlib.Path('/Users/sayedmorteza/Library/CloudStorage/Box-Box/Hetwet_Data')         \n",
    "\n",
    "# folders\n",
    "folders = {\n",
    "    'wet': DATA_DIR / 'WETLAND_DEV_1996_2016',\n",
    "    'dem': DATA_DIR / 'DEM',\n",
    "    'cap': DATA_DIR / 'CAPITAL_1996',\n",
    "    'claims_96': DATA_DIR / 'LOG_CLAIMS_1996',\n",
    "    'claims_16': DATA_DIR / 'LOG_CLAIMS_2016',\n",
    "\n",
    "}"
   ]
  },
  {
   "cell_type": "code",
   "execution_count": 3,
   "id": "325c380c",
   "metadata": {},
   "outputs": [],
   "source": [
    "# estimate treatment logistic regression parameters\n",
    "theta = 0.5  # classification threshold\n",
    "logit_res = logistic_process(\n",
    "    scene_ids=scene_ids,\n",
    "    folders=folders,\n",
    "    threshold=theta,\n",
    "    regularization_C=1.0,\n",
    "    noise_type='gaussian',\n",
    "    noise_sd=0.005,\n",
    "    verbose=False\n",
    ")"
   ]
  },
  {
   "cell_type": "code",
   "execution_count": 4,
   "id": "24e2eef0",
   "metadata": {},
   "outputs": [],
   "source": [
    "# generate synthetic treatment\n",
    "generate_synthetic_treatment(\n",
    "    scene_ids=scene_ids,\n",
    "    folders=folders,\n",
    "    logit_pipe=logit_res,\n",
    "    threshold=theta,\n",
    "    noise_sd=0.005,\n",
    "    noise_type='gaussian'\n",
    ")\n"
   ]
  },
  {
   "cell_type": "code",
   "execution_count": 3,
   "id": "b89a28d9",
   "metadata": {},
   "outputs": [],
   "source": [
    "# estimate outcome linear regression parameters\n",
    "outcome_reg = regression_process(\n",
    "    scene_ids=scene_ids,\n",
    "    folders=folders,\n",
    "    noise_sd=0.1,\n",
    "    noise_type='gaussian',\n",
    "    verbose=False\n",
    ")"
   ]
  },
  {
   "cell_type": "code",
   "execution_count": 4,
   "id": "adabcf8d",
   "metadata": {},
   "outputs": [],
   "source": [
    "# generate synthetic baseline outcomes:\n",
    "generate_synthetic_outcome(\n",
    "    scene_ids = scene_ids,\n",
    "    folders = folders,\n",
    "    reg_pipe = outcome_reg,\n",
    "    target_shape = (8, 8),\n",
    "    noise_type = \"gaussian\",\n",
    "    noise_sd = 0.1,\n",
    "    results_dir = None\n",
    ")"
   ]
  },
  {
   "cell_type": "code",
   "execution_count": 5,
   "id": "30a9559a",
   "metadata": {},
   "outputs": [
    {
     "name": "stdout",
     "output_type": "stream",
     "text": [
      "Number of Affected Nearby Squares: (67, 67)\n"
     ]
    }
   ],
   "source": [
    "# build your spillover kernel\n",
    "CELL_SIZE = 30 # cell size in meters\n",
    "LAMBDA    = 1000.0\n",
    "TRUNCATE = 1\n",
    "KERNEL    = make_exp_kernel(lam_m=LAMBDA, cell_size_m=CELL_SIZE, truncate=TRUNCATE)\n",
    "print(f\"Number of Affected Nearby Squares: {KERNEL.shape}\")"
   ]
  },
  {
   "cell_type": "code",
   "execution_count": null,
   "id": "8a393321",
   "metadata": {},
   "outputs": [
    {
     "name": "stderr",
     "output_type": "stream",
     "text": [
      "WARNING:root:File not found: /Users/sayedmorteza/Library/CloudStorage/Box-Box/Hetwet_Data/Synthetic/Treatment/outcome_scene_1767_gaussian.tiff\n",
      "WARNING:root:File not found: /Users/sayedmorteza/Library/CloudStorage/Box-Box/Hetwet_Data/Synthetic/Outcome/treatment_scene_1767_gaussian.tiff\n"
     ]
    },
    {
     "name": "stdout",
     "output_type": "stream",
     "text": [
      "/Users/sayedmorteza/Library/CloudStorage/Box-Box/Hetwet_Data/Synthetic/Treatment/outcome_scene_1767_gaussian.tiff\n",
      "False\n"
     ]
    },
    {
     "ename": "AttributeError",
     "evalue": "'NoneType' object has no attribute 'astype'",
     "output_type": "error",
     "traceback": [
      "\u001b[0;31m---------------------------------------------------------------------------\u001b[0m",
      "\u001b[0;31mAttributeError\u001b[0m                            Traceback (most recent call last)",
      "Cell \u001b[0;32mIn[13], line 51\u001b[0m\n\u001b[1;32m     49\u001b[0m dem    \u001b[38;5;241m=\u001b[39m dem_r\u001b[38;5;241m.\u001b[39mastype(np\u001b[38;5;241m.\u001b[39mfloat32)\n\u001b[1;32m     50\u001b[0m cap    \u001b[38;5;241m=\u001b[39m cap_r\u001b[38;5;241m.\u001b[39mastype(np\u001b[38;5;241m.\u001b[39mfloat32)\n\u001b[0;32m---> 51\u001b[0m treat \u001b[38;5;241m=\u001b[39m \u001b[43mtreat_r\u001b[49m\u001b[38;5;241;43m.\u001b[39;49m\u001b[43mastype\u001b[49m(np\u001b[38;5;241m.\u001b[39mfloat32)\n\u001b[1;32m     52\u001b[0m actual \u001b[38;5;241m=\u001b[39m actual_r\u001b[38;5;241m.\u001b[39mastype(np\u001b[38;5;241m.\u001b[39mfloat32)\n\u001b[1;32m     54\u001b[0m \u001b[38;5;66;03m# Compute θ(x)\u001b[39;00m\n",
      "\u001b[0;31mAttributeError\u001b[0m: 'NoneType' object has no attribute 'astype'"
     ]
    }
   ],
   "source": [
    "import os\n",
    "import random\n",
    "import logging\n",
    "from pathlib import Path\n",
    "import numpy as np\n",
    "from PIL import Image\n",
    "from Utils.load_and_resize import load_and_resize\n",
    "from Utils.convolution import upstream_only_KuT, downstream_only_KuT\n",
    "import matplotlib.pyplot as plt\n",
    "\n",
    "Bbase = 0.02\n",
    "Beta1 = 0.1\n",
    "Beta2 = 1\n",
    "\n",
    "base = (\n",
    "            '~/Library/CloudStorage/Box-Box/Hetwet_Data/Synthetic'\n",
    "        )\n",
    "\n",
    "results_dir = Path(os.path.expanduser(base))\n",
    "\n",
    "treatment_dir = results_dir / 'Treatment'\n",
    "outcome_dir   = results_dir / 'Outcome'\n",
    "\n",
    "sid = 1767\n",
    "\n",
    "paths = {\n",
    "            'dem':     Path(folders['dem'])      / f\"DEM_{sid}.tiff\",\n",
    "            'cap':     Path(folders['cap'])      / f\"CAPITAL_1996_{sid}.tiff\",\n",
    "            'treat':   treatment_dir            / f\"treatment_scene_{sid}_gaussian.tiff\",\n",
    "            'actual':  outcome_dir              / f\"outcome_scene_{sid}_gaussian.tiff\"\n",
    "        }\n",
    "\n",
    "print(paths['treat'])                 # full path\n",
    "print(paths['treat'].exists())       # check if it exists\n",
    "\n",
    "# changing the\n",
    "target_shape = (256, 256)\n",
    "# Load & resize to WETLAND size\n",
    "dem_r    = load_and_resize(paths['dem'],    target_shape, Image.BILINEAR)\n",
    "cap_r    = load_and_resize(paths['cap'],    target_shape, Image.BILINEAR)\n",
    "treat_r  = load_and_resize(paths['treat'],  target_shape, Image.NEAREST)\n",
    "\n",
    "coarse_shape = (8, 8)\n",
    "\n",
    "# Load & resize to Claims size\n",
    "actual_r = load_and_resize(paths['actual'], coarse_shape, Image.NEAREST)\n",
    "\n",
    "# Cast\n",
    "dem    = dem_r.astype(np.float32)\n",
    "cap    = cap_r.astype(np.float32)\n",
    "treat = treat_r.astype(np.float32)\n",
    "actual = actual_r.astype(np.float32)\n",
    "\n",
    "# Compute θ(x)\n",
    "dem_safe = np.maximum(dem, 1.0)\n",
    "theta = Bbase * (1.0\n",
    "                    + Beta1 * np.log1p(cap)\n",
    "                    + Beta2 / dem_safe)\n",
    "\n",
    "# Compute upstream spillover on coarse grid\n",
    "KuT_up = upstream_only_KuT(treat, dem, KERNEL)\n"
   ]
  },
  {
   "cell_type": "code",
   "execution_count": null,
   "id": "8047660a",
   "metadata": {},
   "outputs": [],
   "source": [
    "generate_post(\n",
    "    scene_ids=scene_ids,\n",
    "    folders=folders,\n",
    "    KERNEL=KERNEL,\n",
    "    Bbase = 0.02,\n",
    "    Beta1 = 0.1,\n",
    "    Beta2 = 1\n",
    ")"
   ]
  }
 ],
 "metadata": {
  "kernelspec": {
   "display_name": "imageTRT",
   "language": "python",
   "name": "python3"
  },
  "language_info": {
   "codemirror_mode": {
    "name": "ipython",
    "version": 3
   },
   "file_extension": ".py",
   "mimetype": "text/x-python",
   "name": "python",
   "nbconvert_exporter": "python",
   "pygments_lexer": "ipython3",
   "version": "3.10.9"
  }
 },
 "nbformat": 4,
 "nbformat_minor": 5
}
