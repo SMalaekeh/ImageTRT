{
 "cells": [
  {
   "cell_type": "code",
   "execution_count": 1,
   "id": "c4cd0b78",
   "metadata": {},
   "outputs": [],
   "source": [
    "import numpy as np\n",
    "\n",
    "# DGP constants\n",
    "np.random.seed(123)\n",
    "n = 6000\n",
    "n_w = 30\n",
    "support_size = 5\n",
    "n_x = 5\n",
    "# Outcome support\n",
    "support_Y = np.random.choice(np.arange(n_w), size=support_size, replace=False)\n",
    "coefs_Y = np.random.uniform(0, 1, size=support_size)\n",
    "def epsilon_sample(n):\n",
    "    return np.random.uniform(-1, 1, size=n)\n",
    "# Treatment support\n",
    "support_T = support_Y\n",
    "coefs_T = np.random.uniform(0, 1, size=support_size)\n",
    "def eta_sample(n):\n",
    "    return np.random.uniform(-1, 1, size=n)\n",
    "\n",
    "# Generate controls, covariates, treatments and outcomes\n",
    "W = np.random.normal(0, 1, size=(n, n_w))\n",
    "X = np.random.uniform(0, 1, size=(n, n_x))\n",
    "# Heterogeneous treatment effects\n",
    "TE1 = np.array([x_i[0] for x_i in X])\n",
    "TE2 = np.array([x_i[0]**2 for x_i in X]).flatten()\n",
    "T = np.dot(W[:, support_T], coefs_T) + eta_sample(n)\n",
    "Y = TE1 * T + TE2 * T**2 + np.dot(W[:, support_Y], coefs_Y) + epsilon_sample(n)\n",
    "# Generate test data\n",
    "X_test = np.random.uniform(0, 1, size=(100, n_x))\n",
    "X_test[:, 0] = np.linspace(0, 1, 100)"
   ]
  },
  {
   "cell_type": "code",
   "execution_count": null,
   "id": "b25fcc6b",
   "metadata": {},
   "outputs": [],
   "source": []
  },
  {
   "cell_type": "code",
   "execution_count": 3,
   "id": "0a7a50ef",
   "metadata": {},
   "outputs": [
    {
     "data": {
      "text/plain": [
       "<econml.dml.causal_forest.CausalForestDML at 0x3311b7c10>"
      ]
     },
     "execution_count": 3,
     "metadata": {},
     "output_type": "execute_result"
    }
   ],
   "source": [
    "# Fit CausalForestDML with multivariate treatment\n",
    "cf = CausalForestDML(n_estimators=200, random_state=0)\n",
    "cf.fit(Y, T, X=X, W=None)"
   ]
  },
  {
   "cell_type": "code",
   "execution_count": 4,
   "id": "ef448fd6",
   "metadata": {},
   "outputs": [],
   "source": [
    "# Estimate CATEs and ATEs\n",
    "cate = cf.effect(X)          \n",
    "ate = cf.ate(X)              "
   ]
  },
  {
   "cell_type": "code",
   "execution_count": 5,
   "id": "20e3f626",
   "metadata": {},
   "outputs": [
    {
     "data": {
      "text/plain": [
       "(array([ 4.,  5.,  6.,  6.,  7., 10., 19., 12., 10., 13.,  9., 17., 24.,\n",
       "        48., 48., 53., 34., 23., 23., 20., 19., 13., 18., 15., 13., 12.,\n",
       "         7.,  3.,  2.,  7.]),\n",
       " array([-3.52695   , -3.31777074, -3.10859149, -2.89941224, -2.69023299,\n",
       "        -2.48105373, -2.27187448, -2.06269523, -1.85351597, -1.64433672,\n",
       "        -1.43515747, -1.22597821, -1.01679896, -0.80761971, -0.59844045,\n",
       "        -0.3892612 , -0.18008195,  0.02909731,  0.23827656,  0.44745581,\n",
       "         0.65663507,  0.86581432,  1.07499357,  1.28417282,  1.49335208,\n",
       "         1.70253133,  1.91171058,  2.12088984,  2.33006909,  2.53924834,\n",
       "         2.7484276 ]),\n",
       " <BarContainer object of 30 artists>)"
      ]
     },
     "execution_count": 5,
     "metadata": {},
     "output_type": "execute_result"
    },
    {
     "data": {
      "image/png": "[encoded data removed]",
      "text/plain": [
       "<Figure size 640x480 with 1 Axes>"
      ]
     },
     "metadata": {},
     "output_type": "display_data"
    }
   ],
   "source": [
    "import matplotlib.pyplot as plt\n",
    "plt.hist(cate, bins=30, alpha=0.5, label='CATE T1')"
   ]
  },
  {
   "cell_type": "code",
   "execution_count": 6,
   "id": "95358dea",
   "metadata": {},
   "outputs": [
    {
     "data": {
      "text/plain": [
       "(array([ 3.,  1.,  0.,  2.,  5.,  8., 10., 13., 19., 21., 32., 30., 30.,\n",
       "        40., 37., 39., 43., 32., 31., 21., 22., 16.,  9., 13.,  6.,  7.,\n",
       "         4.,  3.,  2.,  1.]),\n",
       " array([-0.4011014 , -0.30946095, -0.2178205 , -0.12618006, -0.03453961,\n",
       "         0.05710084,  0.14874129,  0.24038173,  0.33202218,  0.42366263,\n",
       "         0.51530308,  0.60694352,  0.69858397,  0.79022442,  0.88186487,\n",
       "         0.97350531,  1.06514576,  1.15678621,  1.24842666,  1.3400671 ,\n",
       "         1.43170755,  1.523348  ,  1.61498845,  1.70662889,  1.79826934,\n",
       "         1.88990979,  1.98155024,  2.07319068,  2.16483113,  2.25647158,\n",
       "         2.34811203]),\n",
       " <BarContainer object of 30 artists>)"
      ]
     },
     "execution_count": 6,
     "metadata": {},
     "output_type": "execute_result"
    },
    {
     "data": {
      "image/png": "[encoded data removed]",
      "text/plain": [
       "<Figure size 640x480 with 1 Axes>"
      ]
     },
     "metadata": {},
     "output_type": "display_data"
    }
   ],
   "source": [
    "plt.hist(true_te1, bins=30, alpha=0.5, label='True TE T1')"
   ]
  },
  {
   "cell_type": "code",
   "execution_count": 7,
   "id": "9e0c43e0",
   "metadata": {},
   "outputs": [
    {
     "data": {
      "text/plain": [
       "(array([ 3.,  1.,  0.,  2.,  5.,  8., 10., 13., 19., 21., 32., 30., 30.,\n",
       "        40., 37., 39., 43., 32., 31., 21., 22., 16.,  9., 13.,  6.,  7.,\n",
       "         4.,  3.,  2.,  1.]),\n",
       " array([-2.4011014 , -2.30946095, -2.2178205 , -2.12618006, -2.03453961,\n",
       "        -1.94289916, -1.85125871, -1.75961827, -1.66797782, -1.57633737,\n",
       "        -1.48469692, -1.39305648, -1.30141603, -1.20977558, -1.11813513,\n",
       "        -1.02649469, -0.93485424, -0.84321379, -0.75157334, -0.6599329 ,\n",
       "        -0.56829245, -0.476652  , -0.38501155, -0.29337111, -0.20173066,\n",
       "        -0.11009021, -0.01844976,  0.07319068,  0.16483113,  0.25647158,\n",
       "         0.34811203]),\n",
       " <BarContainer object of 30 artists>)"
      ]
     },
     "execution_count": 7,
     "metadata": {},
     "output_type": "execute_result"
    },
    {
     "data": {
      "image/png": "[encoded data removed]",
      "text/plain": [
       "<Figure size 640x480 with 1 Axes>"
      ]
     },
     "metadata": {},
     "output_type": "display_data"
    }
   ],
   "source": [
    "plt.hist(true_te2, bins=30, alpha=0.5, label='CATE T2')"
   ]
  }
 ],
 "metadata": {
  "kernelspec": {
   "display_name": "imageTRT",
   "language": "python",
   "name": "python3"
  },
  "language_info": {
   "codemirror_mode": {
    "name": "ipython",
    "version": 3
   },
   "file_extension": ".py",
   "mimetype": "text/x-python",
   "name": "python",
   "nbconvert_exporter": "python",
   "pygments_lexer": "ipython3",
   "version": "3.10.9"
  }
 },
 "nbformat": 4,
 "nbformat_minor": 5
}
