{
 "cells": [
  {
   "cell_type": "code",
   "execution_count": 1,
   "id": "2b58afb2",
   "metadata": {},
   "outputs": [
    {
     "name": "stderr",
     "output_type": "stream",
     "text": [
      "IProgress not found. Please update jupyter and ipywidgets. See https://ipywidgets.readthedocs.io/en/stable/user_install.html\n"
     ]
    }
   ],
   "source": [
    "import pathlib\n",
    "import rasterio\n",
    "import numpy as np\n",
    "import pandas as pd\n",
    "import torch\n",
    "from PIL import Image\n",
    "# Written Utils Functions\n",
    "from Utils.utils import build_embedding_model, compute_image_embeddings\n",
    "from Utils.utils import compute_tabular_features, combine_features\n",
    "# Writtent Model Functions\n",
    "from Utils.computation import compute_pca_components\n",
    "from Utils.computation import estimate_treatment_effect_tabular \n",
    "from Utils.computation import estimate_treatment_effect_with_embeddings\n",
    "from Utils.computation import evaluate_ite, get_train_test_indices"
   ]
  },
  {
   "cell_type": "code",
   "execution_count": 2,
   "id": "edbe89e4",
   "metadata": {},
   "outputs": [],
   "source": [
    "# Collect file paths\n",
    "COV_DIR = pathlib.Path('/Users/sayedmorteza/Library/CloudStorage/Box-Box/Hetwet_Data')\n",
    "DATA_DIR = pathlib.Path('/Users/sayedmorteza/Library/CloudStorage/Box-Box/Caltech Research/Scripts/ImageTRT/Synthetic Data Generation/Results')\n",
    "\n",
    "\n",
    "folders = {\n",
    "    'wet': DATA_DIR / 'Treatment',\n",
    "    'dem': COV_DIR / 'DEM',\n",
    "    'cap': COV_DIR / 'CAPITAL_1996',\n",
    "    'outcome': DATA_DIR / 'Outcome_Post',\n",
    "    'ite': DATA_DIR / 'ITE_TOTAL'\n",
    "}\n",
    "\n",
    "\n",
    "scene_ids = [str(i) for i in range(1, 3566)]"
   ]
  },
  {
   "cell_type": "code",
   "execution_count": 3,
   "id": "ec8583a2",
   "metadata": {},
   "outputs": [
    {
     "name": "stderr",
     "output_type": "stream",
     "text": [
      "Dataset has no geotransform, gcps, or rpcs. The identity matrix will be returned.\n"
     ]
    },
    {
     "name": "stdout",
     "output_type": "stream",
     "text": [
      "Saved features to: /Users/sayedmorteza/Library/CloudStorage/Box-Box/Caltech Research/Scripts/ImageTRT/Model/features.csv\n"
     ]
    }
   ],
   "source": [
    "# Tabular features\n",
    "tab_df = compute_tabular_features(folders, scene_ids)\n",
    "tab_df.head()\n",
    "tab_df.to_csv('tabular_features.csv', index=False)"
   ]
  },
  {
   "cell_type": "code",
   "execution_count": 5,
   "id": "3447b3fc",
   "metadata": {},
   "outputs": [
    {
     "data": {
      "application/vnd.microsoft.datawrangler.viewer.v0+json": {
       "columns": [
        {
         "name": "index",
         "rawType": "object",
         "type": "string"
        },
        {
         "name": "wet_mean",
         "rawType": "float64",
         "type": "float"
        },
        {
         "name": "wet_std",
         "rawType": "float64",
         "type": "float"
        },
        {
         "name": "dem_mean",
         "rawType": "float64",
         "type": "float"
        },
        {
         "name": "dem_std",
         "rawType": "float64",
         "type": "float"
        },
        {
         "name": "cap_mean",
         "rawType": "float64",
         "type": "float"
        },
        {
         "name": "cap_std",
         "rawType": "float64",
         "type": "float"
        },
        {
         "name": "outcome_mean",
         "rawType": "float64",
         "type": "float"
        },
        {
         "name": "outcome_std",
         "rawType": "float64",
         "type": "float"
        },
        {
         "name": "ite_mean",
         "rawType": "float64",
         "type": "float"
        },
        {
         "name": "ite_std",
         "rawType": "float64",
         "type": "float"
        }
       ],
       "ref": "b4582dd4-ef27-405b-b806-61314c699d84",
       "rows": [
        [
         "count",
         "3565.0",
         "3565.0",
         "3565.0",
         "3565.0",
         "3565.0",
         "3565.0",
         "3565.0",
         "3565.0",
         "3565.0",
         "3565.0"
        ],
        [
         "mean",
         "0.008492785182273404",
         "0.03765514058519873",
         "-433.918691514912",
         "216.40170929715916",
         "41972.41034726508",
         "252052.15714436487",
         "3.747508240551885",
         "0.7152176780831347",
         "0.000519285520779029",
         "0.0018815557773514606"
        ],
        [
         "std",
         "0.029381893941800213",
         "0.07836719552473262",
         "1861.7739377301868",
         "907.998179404505",
         "172172.44061724003",
         "1280286.8496579009",
         "1.1215309500034212",
         "1.6395062245618128",
         "0.001915419305728617",
         "0.005024306794039547"
        ],
        [
         "min",
         "0.0",
         "0.0",
         "-9999.0",
         "0.0",
         "0.0",
         "0.0",
         "0.0",
         "0.0",
         "0.0",
         "0.0"
        ],
        [
         "25%",
         "0.0",
         "0.0",
         "1.7271043261729093",
         "0.8345367652313598",
         "0.0",
         "0.0",
         "3.703125",
         "0.3903123748998999",
         "0.0",
         "0.0"
        ],
        [
         "50%",
         "0.0",
         "0.0",
         "9.806547954441701",
         "2.7762220885309414",
         "2873.736",
         "20009.960484299547",
         "3.78125",
         "0.4416654382844553",
         "0.0",
         "0.0"
        ],
        [
         "75%",
         "0.001251220703125",
         "0.03535046180571155",
         "30.674374293274013",
         "7.810326724580258",
         "22786.7568",
         "75623.78780647693",
         "3.875",
         "0.47495887979908324",
         "0.0",
         "0.0"
        ],
        [
         "max",
         "0.4180450439453125",
         "0.493237655880078",
         "103.38410526101426",
         "4999.444137546229",
         "6145464.5936",
         "39609602.037429936",
         "33.64784939959645",
         "49.72731328022831",
         "0.027905764349270612",
         "0.03486330949723182"
        ]
       ],
       "shape": {
        "columns": 10,
        "rows": 8
       }
      },
      "text/html": [
       "<div>\n",
       "<style scoped>\n",
       "    .dataframe tbody tr th:only-of-type {\n",
       "        vertical-align: middle;\n",
       "    }\n",
       "\n",
       "    .dataframe tbody tr th {\n",
       "        vertical-align: top;\n",
       "    }\n",
       "\n",
       "    .dataframe thead th {\n",
       "        text-align: right;\n",
       "    }\n",
       "</style>\n",
       "<table border=\"1\" class=\"dataframe\">\n",
       "  <thead>\n",
       "    <tr style=\"text-align: right;\">\n",
       "      <th></th>\n",
       "      <th>wet_mean</th>\n",
       "      <th>wet_std</th>\n",
       "      <th>dem_mean</th>\n",
       "      <th>dem_std</th>\n",
       "      <th>cap_mean</th>\n",
       "      <th>cap_std</th>\n",
       "      <th>outcome_mean</th>\n",
       "      <th>outcome_std</th>\n",
       "      <th>ite_mean</th>\n",
       "      <th>ite_std</th>\n",
       "    </tr>\n",
       "  </thead>\n",
       "  <tbody>\n",
       "    <tr>\n",
       "      <th>count</th>\n",
       "      <td>3565.000000</td>\n",
       "      <td>3565.000000</td>\n",
       "      <td>3565.000000</td>\n",
       "      <td>3565.000000</td>\n",
       "      <td>3.565000e+03</td>\n",
       "      <td>3.565000e+03</td>\n",
       "      <td>3565.000000</td>\n",
       "      <td>3565.000000</td>\n",
       "      <td>3565.000000</td>\n",
       "      <td>3565.000000</td>\n",
       "    </tr>\n",
       "    <tr>\n",
       "      <th>mean</th>\n",
       "      <td>0.008493</td>\n",
       "      <td>0.037655</td>\n",
       "      <td>-433.918692</td>\n",
       "      <td>216.401709</td>\n",
       "      <td>4.197241e+04</td>\n",
       "      <td>2.520522e+05</td>\n",
       "      <td>3.747508</td>\n",
       "      <td>0.715218</td>\n",
       "      <td>0.000519</td>\n",
       "      <td>0.001882</td>\n",
       "    </tr>\n",
       "    <tr>\n",
       "      <th>std</th>\n",
       "      <td>0.029382</td>\n",
       "      <td>0.078367</td>\n",
       "      <td>1861.773938</td>\n",
       "      <td>907.998179</td>\n",
       "      <td>1.721724e+05</td>\n",
       "      <td>1.280287e+06</td>\n",
       "      <td>1.121531</td>\n",
       "      <td>1.639506</td>\n",
       "      <td>0.001915</td>\n",
       "      <td>0.005024</td>\n",
       "    </tr>\n",
       "    <tr>\n",
       "      <th>min</th>\n",
       "      <td>0.000000</td>\n",
       "      <td>0.000000</td>\n",
       "      <td>-9999.000000</td>\n",
       "      <td>0.000000</td>\n",
       "      <td>0.000000e+00</td>\n",
       "      <td>0.000000e+00</td>\n",
       "      <td>0.000000</td>\n",
       "      <td>0.000000</td>\n",
       "      <td>0.000000</td>\n",
       "      <td>0.000000</td>\n",
       "    </tr>\n",
       "    <tr>\n",
       "      <th>25%</th>\n",
       "      <td>0.000000</td>\n",
       "      <td>0.000000</td>\n",
       "      <td>1.727104</td>\n",
       "      <td>0.834537</td>\n",
       "      <td>0.000000e+00</td>\n",
       "      <td>0.000000e+00</td>\n",
       "      <td>3.703125</td>\n",
       "      <td>0.390312</td>\n",
       "      <td>0.000000</td>\n",
       "      <td>0.000000</td>\n",
       "    </tr>\n",
       "    <tr>\n",
       "      <th>50%</th>\n",
       "      <td>0.000000</td>\n",
       "      <td>0.000000</td>\n",
       "      <td>9.806548</td>\n",
       "      <td>2.776222</td>\n",
       "      <td>2.873736e+03</td>\n",
       "      <td>2.000996e+04</td>\n",
       "      <td>3.781250</td>\n",
       "      <td>0.441665</td>\n",
       "      <td>0.000000</td>\n",
       "      <td>0.000000</td>\n",
       "    </tr>\n",
       "    <tr>\n",
       "      <th>75%</th>\n",
       "      <td>0.001251</td>\n",
       "      <td>0.035350</td>\n",
       "      <td>30.674374</td>\n",
       "      <td>7.810327</td>\n",
       "      <td>2.278676e+04</td>\n",
       "      <td>7.562379e+04</td>\n",
       "      <td>3.875000</td>\n",
       "      <td>0.474959</td>\n",
       "      <td>0.000000</td>\n",
       "      <td>0.000000</td>\n",
       "    </tr>\n",
       "    <tr>\n",
       "      <th>max</th>\n",
       "      <td>0.418045</td>\n",
       "      <td>0.493238</td>\n",
       "      <td>103.384105</td>\n",
       "      <td>4999.444138</td>\n",
       "      <td>6.145465e+06</td>\n",
       "      <td>3.960960e+07</td>\n",
       "      <td>33.647849</td>\n",
       "      <td>49.727313</td>\n",
       "      <td>0.027906</td>\n",
       "      <td>0.034863</td>\n",
       "    </tr>\n",
       "  </tbody>\n",
       "</table>\n",
       "</div>"
      ],
      "text/plain": [
       "          wet_mean      wet_std     dem_mean      dem_std      cap_mean  \\\n",
       "count  3565.000000  3565.000000  3565.000000  3565.000000  3.565000e+03   \n",
       "mean      0.008493     0.037655  -433.918692   216.401709  4.197241e+04   \n",
       "std       0.029382     0.078367  1861.773938   907.998179  1.721724e+05   \n",
       "min       0.000000     0.000000 -9999.000000     0.000000  0.000000e+00   \n",
       "25%       0.000000     0.000000     1.727104     0.834537  0.000000e+00   \n",
       "50%       0.000000     0.000000     9.806548     2.776222  2.873736e+03   \n",
       "75%       0.001251     0.035350    30.674374     7.810327  2.278676e+04   \n",
       "max       0.418045     0.493238   103.384105  4999.444138  6.145465e+06   \n",
       "\n",
       "            cap_std  outcome_mean  outcome_std     ite_mean      ite_std  \n",
       "count  3.565000e+03   3565.000000  3565.000000  3565.000000  3565.000000  \n",
       "mean   2.520522e+05      3.747508     0.715218     0.000519     0.001882  \n",
       "std    1.280287e+06      1.121531     1.639506     0.001915     0.005024  \n",
       "min    0.000000e+00      0.000000     0.000000     0.000000     0.000000  \n",
       "25%    0.000000e+00      3.703125     0.390312     0.000000     0.000000  \n",
       "50%    2.000996e+04      3.781250     0.441665     0.000000     0.000000  \n",
       "75%    7.562379e+04      3.875000     0.474959     0.000000     0.000000  \n",
       "max    3.960960e+07     33.647849    49.727313     0.027906     0.034863  "
      ]
     },
     "execution_count": 5,
     "metadata": {},
     "output_type": "execute_result"
    }
   ],
   "source": [
    "tab_df.describe()"
   ]
  },
  {
   "cell_type": "code",
   "execution_count": 3,
   "id": "97766843",
   "metadata": {},
   "outputs": [
    {
     "name": "stderr",
     "output_type": "stream",
     "text": [
      "The parameter 'pretrained' is deprecated since 0.13 and may be removed in the future, please use 'weights' instead.\n",
      "Arguments other than a weight enum or `None` for 'weights' are deprecated since 0.13 and may be removed in the future. The current behavior is equivalent to passing `weights=ResNet18_Weights.IMAGENET1K_V1`. You can also use `weights=ResNet18_Weights.DEFAULT` to get the most up-to-date weights.\n",
      "Embedding wet scenes:   0%|          | 0/3565 [00:00<?, ?it/s]Dataset has no geotransform, gcps, or rpcs. The identity matrix will be returned.\n",
      "Embedding wet scenes: 100%|██████████| 3565/3565 [27:16<00:00,  2.18it/s]\n"
     ]
    },
    {
     "name": "stdout",
     "output_type": "stream",
     "text": [
      "Saved embeddings to: /Users/sayedmorteza/Library/CloudStorage/Box-Box/Caltech Research/Scripts/ImageTRT/Model/wet_embeddings.csv\n"
     ]
    }
   ],
   "source": [
    "# Embeddings\n",
    "device = torch.device('cuda' if torch.cuda.is_available() else 'cpu')\n",
    "\n",
    "model = build_embedding_model(\n",
    "    device=device,\n",
    "    model_type='resnet18', \n",
    "    conv_layer=4             \n",
    ")\n",
    "\n",
    "# Compute image embeddings for each variable\n",
    "# for var in folders:\n",
    "#     _ = compute_image_embeddings(\n",
    "#         folders=folders,\n",
    "#         scene_ids=scene_ids,\n",
    "#         var=var,\n",
    "#         model=model,\n",
    "#         device=device,\n",
    "#         img_size=256,\n",
    "#     )\n",
    "\n",
    "# Compute image embeddings for only wetland\n",
    "var = 'wet'\n",
    "_ = compute_image_embeddings(\n",
    "    folders=folders,\n",
    "    scene_ids=scene_ids,\n",
    "    var=var,\n",
    "    model=model,\n",
    "    device=device,\n",
    "    img_size=256,\n",
    ")"
   ]
  },
  {
   "cell_type": "code",
   "execution_count": 4,
   "id": "c619c5b0",
   "metadata": {},
   "outputs": [],
   "source": [
    "# Get pca features\n",
    "pca_wet = compute_pca_components('wet_embeddings.csv', n_components=10)\n",
    "# pca_dem = compute_pca_components('dem_embeddings.csv', n_components=2)\n",
    "# pca_cap = compute_pca_components('cap_embeddings.csv', n_components=2)\n",
    "# pca_claims_96 = compute_pca_components('claims_96_embeddings.csv', n_components=2)\n",
    "\n",
    "pca_wet.to_csv(\"wet_pca10.csv\")"
   ]
  },
  {
   "cell_type": "code",
   "execution_count": null,
   "id": "69b66aa7",
   "metadata": {},
   "outputs": [],
   "source": [
    "# combine features\n",
    "combined_df = combine_features(\n",
    "    tab_df,\n",
    "    pca_wet=pca_wet,\n",
    "    pca_dem=pca_dem,\n",
    "    pca_cap=pca_cap,\n",
    "    pca_claims_96=pca_claims_96\n",
    ")"
   ]
  },
  {
   "cell_type": "code",
   "execution_count": 6,
   "id": "499027a7",
   "metadata": {},
   "outputs": [
    {
     "data": {
      "application/vnd.microsoft.datawrangler.viewer.v0+json": {
       "columns": [
        {
         "name": "index",
         "rawType": "int64",
         "type": "integer"
        },
        {
         "name": "scene_id",
         "rawType": "int64",
         "type": "integer"
        },
        {
         "name": "wet_mean",
         "rawType": "float64",
         "type": "float"
        },
        {
         "name": "wet_std",
         "rawType": "float64",
         "type": "float"
        },
        {
         "name": "dem_mean",
         "rawType": "float64",
         "type": "float"
        },
        {
         "name": "dem_std",
         "rawType": "float64",
         "type": "float"
        },
        {
         "name": "cap_mean",
         "rawType": "float64",
         "type": "float"
        },
        {
         "name": "cap_std",
         "rawType": "float64",
         "type": "float"
        },
        {
         "name": "outcome_mean",
         "rawType": "float64",
         "type": "float"
        },
        {
         "name": "outcome_std",
         "rawType": "float64",
         "type": "float"
        },
        {
         "name": "ite_mean",
         "rawType": "float64",
         "type": "float"
        },
        {
         "name": "ite_std",
         "rawType": "float64",
         "type": "float"
        }
       ],
       "ref": "92a83bac-c757-422d-80ed-0780823af25e",
       "rows": [
        [
         "0",
         "1",
         "0.0",
         "0.0",
         "64.3789519320546",
         "22.38653137419719",
         "0.0",
         "0.0",
         "3.78125",
         "0.4133986423538422",
         "0.0",
         "0.0"
        ],
        [
         "1",
         "2",
         "0.0",
         "0.0",
         "94.02367995106356",
         "23.789065654009924",
         "0.0",
         "0.0",
         "3.859375",
         "0.3476343040826092",
         "0.0",
         "0.0"
        ],
        [
         "2",
         "3",
         "0.0",
         "0.0",
         "103.38410526101426",
         "15.987603583691904",
         "0.0",
         "0.0",
         "3.796875",
         "0.4023247871744916",
         "0.0",
         "0.0"
        ],
        [
         "3",
         "4",
         "0.0",
         "0.0",
         "88.24897532533699",
         "15.052855563115552",
         "0.0",
         "0.0",
         "3.875",
         "0.3307189138830738",
         "0.0",
         "0.0"
        ],
        [
         "4",
         "5",
         "0.0",
         "0.0",
         "86.24928032262122",
         "11.16230916377418",
         "0.0",
         "0.0",
         "3.8125",
         "0.3903123748998999",
         "0.0",
         "0.0"
        ]
       ],
       "shape": {
        "columns": 11,
        "rows": 5
       }
      },
      "text/html": [
       "<div>\n",
       "<style scoped>\n",
       "    .dataframe tbody tr th:only-of-type {\n",
       "        vertical-align: middle;\n",
       "    }\n",
       "\n",
       "    .dataframe tbody tr th {\n",
       "        vertical-align: top;\n",
       "    }\n",
       "\n",
       "    .dataframe thead th {\n",
       "        text-align: right;\n",
       "    }\n",
       "</style>\n",
       "<table border=\"1\" class=\"dataframe\">\n",
       "  <thead>\n",
       "    <tr style=\"text-align: right;\">\n",
       "      <th></th>\n",
       "      <th>scene_id</th>\n",
       "      <th>wet_mean</th>\n",
       "      <th>wet_std</th>\n",
       "      <th>dem_mean</th>\n",
       "      <th>dem_std</th>\n",
       "      <th>cap_mean</th>\n",
       "      <th>cap_std</th>\n",
       "      <th>outcome_mean</th>\n",
       "      <th>outcome_std</th>\n",
       "      <th>ite_mean</th>\n",
       "      <th>ite_std</th>\n",
       "    </tr>\n",
       "  </thead>\n",
       "  <tbody>\n",
       "    <tr>\n",
       "      <th>0</th>\n",
       "      <td>1</td>\n",
       "      <td>0.0</td>\n",
       "      <td>0.0</td>\n",
       "      <td>64.378952</td>\n",
       "      <td>22.386531</td>\n",
       "      <td>0.0</td>\n",
       "      <td>0.0</td>\n",
       "      <td>3.781250</td>\n",
       "      <td>0.413399</td>\n",
       "      <td>0.0</td>\n",
       "      <td>0.0</td>\n",
       "    </tr>\n",
       "    <tr>\n",
       "      <th>1</th>\n",
       "      <td>2</td>\n",
       "      <td>0.0</td>\n",
       "      <td>0.0</td>\n",
       "      <td>94.023680</td>\n",
       "      <td>23.789066</td>\n",
       "      <td>0.0</td>\n",
       "      <td>0.0</td>\n",
       "      <td>3.859375</td>\n",
       "      <td>0.347634</td>\n",
       "      <td>0.0</td>\n",
       "      <td>0.0</td>\n",
       "    </tr>\n",
       "    <tr>\n",
       "      <th>2</th>\n",
       "      <td>3</td>\n",
       "      <td>0.0</td>\n",
       "      <td>0.0</td>\n",
       "      <td>103.384105</td>\n",
       "      <td>15.987604</td>\n",
       "      <td>0.0</td>\n",
       "      <td>0.0</td>\n",
       "      <td>3.796875</td>\n",
       "      <td>0.402325</td>\n",
       "      <td>0.0</td>\n",
       "      <td>0.0</td>\n",
       "    </tr>\n",
       "    <tr>\n",
       "      <th>3</th>\n",
       "      <td>4</td>\n",
       "      <td>0.0</td>\n",
       "      <td>0.0</td>\n",
       "      <td>88.248975</td>\n",
       "      <td>15.052856</td>\n",
       "      <td>0.0</td>\n",
       "      <td>0.0</td>\n",
       "      <td>3.875000</td>\n",
       "      <td>0.330719</td>\n",
       "      <td>0.0</td>\n",
       "      <td>0.0</td>\n",
       "    </tr>\n",
       "    <tr>\n",
       "      <th>4</th>\n",
       "      <td>5</td>\n",
       "      <td>0.0</td>\n",
       "      <td>0.0</td>\n",
       "      <td>86.249280</td>\n",
       "      <td>11.162309</td>\n",
       "      <td>0.0</td>\n",
       "      <td>0.0</td>\n",
       "      <td>3.812500</td>\n",
       "      <td>0.390312</td>\n",
       "      <td>0.0</td>\n",
       "      <td>0.0</td>\n",
       "    </tr>\n",
       "  </tbody>\n",
       "</table>\n",
       "</div>"
      ],
      "text/plain": [
       "   scene_id  wet_mean  wet_std    dem_mean    dem_std  cap_mean  cap_std  \\\n",
       "0         1       0.0      0.0   64.378952  22.386531       0.0      0.0   \n",
       "1         2       0.0      0.0   94.023680  23.789066       0.0      0.0   \n",
       "2         3       0.0      0.0  103.384105  15.987604       0.0      0.0   \n",
       "3         4       0.0      0.0   88.248975  15.052856       0.0      0.0   \n",
       "4         5       0.0      0.0   86.249280  11.162309       0.0      0.0   \n",
       "\n",
       "   outcome_mean  outcome_std  ite_mean  ite_std  \n",
       "0      3.781250     0.413399       0.0      0.0  \n",
       "1      3.859375     0.347634       0.0      0.0  \n",
       "2      3.796875     0.402325       0.0      0.0  \n",
       "3      3.875000     0.330719       0.0      0.0  \n",
       "4      3.812500     0.390312       0.0      0.0  "
      ]
     },
     "execution_count": 6,
     "metadata": {},
     "output_type": "execute_result"
    }
   ],
   "source": [
    "tab_df.head()"
   ]
  },
  {
   "cell_type": "code",
   "execution_count": 4,
   "id": "abe336f8",
   "metadata": {},
   "outputs": [],
   "source": [
    "# load tables\n",
    "tab_df     = pd.read_csv('tabular_features.csv')\n",
    "pca_wet    = pd.read_csv('wet_pca10.csv')\n",
    "\n",
    "# outcome variable\n",
    "tab_df['outcome'] = tab_df['outcome_mean']\n",
    "\n",
    "# pick outcome & features\n",
    "OUTCOME = 'ite_mean'\n",
    "TREAT   = 'wet_mean'\n",
    "# COVS    = [c for c in tab_df.columns \n",
    "#           if c not in ('scene_id', OUTCOME, 'wet_mean', 'outcome', 'claims_16_mean', 'claims_96_mean')]\n",
    "COVS = ['dem_mean', 'cap_mean', 'dem_std', 'cap_std']\n",
    "\n",
    "# merge PCA back onto tab_df\n",
    "df = tab_df.merge(pca_wet,  on='scene_id', how='left')\n",
    "\n",
    "# split once\n",
    "train_idx, test_idx = get_train_test_indices(tab_df, test_size=0.2, random_state=42)"
   ]
  },
  {
   "cell_type": "code",
   "execution_count": 5,
   "id": "d7e0948d",
   "metadata": {},
   "outputs": [],
   "source": [
    "# tabular-only\n",
    "cate_tab, ate_tab, model_tab = estimate_treatment_effect_tabular(\n",
    "    df=df,\n",
    "    train_idx=train_idx,\n",
    "    test_idx=test_idx,\n",
    "    outcome_col=OUTCOME,\n",
    "    treatment_col=TREAT,\n",
    "    covariate_cols=COVS\n",
    ")"
   ]
  },
  {
   "cell_type": "code",
   "execution_count": 4,
   "id": "7a9dc7ed",
   "metadata": {},
   "outputs": [
    {
     "name": "stderr",
     "output_type": "stream",
     "text": [
      "A scalar was specified but there are multiple treatments; the same value will be used for each treatment.  Consider specifyingall treatments, or using the const_marginal_effect method.\n",
      "A scalar was specified but there are multiple treatments; the same value will be used for each treatment.  Consider specifyingall treatments, or using the const_marginal_effect method.\n",
      "A scalar was specified but there are multiple treatments; the same value will be used for each treatment.  Consider specifyingall treatments, or using the const_marginal_effect method.\n"
     ]
    },
    {
     "ename": "IndexError",
     "evalue": "invalid index to scalar variable.",
     "output_type": "error",
     "traceback": [
      "\u001b[0;31m---------------------------------------------------------------------------\u001b[0m",
      "\u001b[0;31mIndexError\u001b[0m                                Traceback (most recent call last)",
      "Cell \u001b[0;32mIn[4], line 4\u001b[0m\n\u001b[1;32m      1\u001b[0m \u001b[38;5;66;03m# include image embeddings in the treatment\u001b[39;00m\n\u001b[1;32m      2\u001b[0m PCA_COLS \u001b[38;5;241m=\u001b[39m [\u001b[38;5;124mf\u001b[39m\u001b[38;5;124m'\u001b[39m\u001b[38;5;124mPC\u001b[39m\u001b[38;5;132;01m{\u001b[39;00mi\u001b[38;5;241m+\u001b[39m\u001b[38;5;241m1\u001b[39m\u001b[38;5;132;01m}\u001b[39;00m\u001b[38;5;124m'\u001b[39m \u001b[38;5;28;01mfor\u001b[39;00m i \u001b[38;5;129;01min\u001b[39;00m \u001b[38;5;28mrange\u001b[39m(\u001b[38;5;241m10\u001b[39m)]\n\u001b[0;32m----> 4\u001b[0m cate_img, ate_img, model_img \u001b[38;5;241m=\u001b[39m \u001b[43mestimate_treatment_effect_with_embeddings\u001b[49m\u001b[43m(\u001b[49m\n\u001b[1;32m      5\u001b[0m \u001b[43m    \u001b[49m\u001b[43mdf\u001b[49m\u001b[43m,\u001b[49m\n\u001b[1;32m      6\u001b[0m \u001b[43m    \u001b[49m\u001b[43mtrain_idx\u001b[49m\u001b[43m,\u001b[49m\n\u001b[1;32m      7\u001b[0m \u001b[43m    \u001b[49m\u001b[43mtest_idx\u001b[49m\u001b[43m,\u001b[49m\n\u001b[1;32m      8\u001b[0m \u001b[43m    \u001b[49m\u001b[43moutcome_col\u001b[49m\u001b[38;5;241;43m=\u001b[39;49m\u001b[43mOUTCOME\u001b[49m\u001b[43m,\u001b[49m\n\u001b[1;32m      9\u001b[0m \u001b[43m    \u001b[49m\u001b[43mtreatment_col\u001b[49m\u001b[38;5;241;43m=\u001b[39;49m\u001b[43mPCA_COLS\u001b[49m\u001b[43m,\u001b[49m\n\u001b[1;32m     10\u001b[0m \u001b[43m    \u001b[49m\u001b[43mcovariate_cols\u001b[49m\u001b[38;5;241;43m=\u001b[39;49m\u001b[43mCOVS\u001b[49m\n\u001b[1;32m     11\u001b[0m \u001b[43m)\u001b[49m\n\u001b[1;32m     13\u001b[0m \u001b[38;5;28mprint\u001b[39m(\u001b[38;5;124m\"\u001b[39m\u001b[38;5;124mTabular ATE (train/test):\u001b[39m\u001b[38;5;124m\"\u001b[39m, ate_tab)\n\u001b[1;32m     14\u001b[0m \u001b[38;5;28mprint\u001b[39m(\u001b[38;5;124m\"\u001b[39m\u001b[38;5;124mImage‐augmented ATE (train/test):\u001b[39m\u001b[38;5;124m\"\u001b[39m, ate_img)\n",
      "File \u001b[0;32m~/Library/CloudStorage/Box-Box/Caltech Research/Scripts/ImageTRT/Model/Utils/computation.py:173\u001b[0m, in \u001b[0;36mestimate_treatment_effect_with_embeddings\u001b[0;34m(df, train_idx, test_idx, outcome_col, treatment_col, covariate_cols, n_estimators, random_state)\u001b[0m\n\u001b[1;32m    170\u001b[0m peat_te \u001b[38;5;241m=\u001b[39m cate_te_mat\n\u001b[1;32m    172\u001b[0m \u001b[38;5;66;03m# ATE (uses 1D output directly too)\u001b[39;00m\n\u001b[0;32m--> 173\u001b[0m ate_tr \u001b[38;5;241m=\u001b[39m \u001b[43mcf\u001b[49m\u001b[38;5;241;43m.\u001b[39;49m\u001b[43mate\u001b[49m\u001b[43m(\u001b[49m\u001b[43mX_tr\u001b[49m\u001b[43m)\u001b[49m\u001b[43m[\u001b[49m\u001b[38;5;241;43m0\u001b[39;49m\u001b[43m]\u001b[49m\n\u001b[1;32m    174\u001b[0m ate_te \u001b[38;5;241m=\u001b[39m cf\u001b[38;5;241m.\u001b[39mate(X_te)[\u001b[38;5;241m0\u001b[39m]\n\u001b[1;32m    176\u001b[0m df_tr \u001b[38;5;241m=\u001b[39m pd\u001b[38;5;241m.\u001b[39mDataFrame({\n\u001b[1;32m    177\u001b[0m     \u001b[38;5;124m'\u001b[39m\u001b[38;5;124mscene_id\u001b[39m\u001b[38;5;124m'\u001b[39m: train[\u001b[38;5;124m'\u001b[39m\u001b[38;5;124mscene_id\u001b[39m\u001b[38;5;124m'\u001b[39m]\u001b[38;5;241m.\u001b[39mvalues,\n\u001b[1;32m    178\u001b[0m     \u001b[38;5;124m'\u001b[39m\u001b[38;5;124mdataset\u001b[39m\u001b[38;5;124m'\u001b[39m: \u001b[38;5;124m'\u001b[39m\u001b[38;5;124mtrain\u001b[39m\u001b[38;5;124m'\u001b[39m,\n\u001b[1;32m    179\u001b[0m     \u001b[38;5;124m'\u001b[39m\u001b[38;5;124mCATE_wet\u001b[39m\u001b[38;5;124m'\u001b[39m: peat_tr\n\u001b[1;32m    180\u001b[0m })\n",
      "\u001b[0;31mIndexError\u001b[0m: invalid index to scalar variable."
     ]
    }
   ],
   "source": [
    "# include image embeddings in the treatment\n",
    "PCA_COLS = [f'PC{i+1}' for i in range(10)]\n",
    "\n",
    "cate_img, ate_img, model_img = estimate_treatment_effect_with_embeddings(\n",
    "    df,\n",
    "    train_idx,\n",
    "    test_idx,\n",
    "    outcome_col=OUTCOME,\n",
    "    treatment_col=PCA_COLS,\n",
    "    covariate_cols=COVS\n",
    ")\n",
    "\n",
    "print(\"Tabular ATE (train/test):\", ate_tab)\n",
    "print(\"Image‐augmented ATE (train/test):\", ate_img)\n",
    "\n",
    "# ompare out‐of‐sample CATE distributions\n",
    "import seaborn as sns\n",
    "import matplotlib.pyplot as plt\n",
    "\n",
    "sns.kdeplot(cate_tab.query(\"dataset=='test'\")['CATE'], label='tabular')\n",
    "sns.kdeplot(cate_img.query(\"dataset=='test'\")['CATE_wet'], label='with embeddings')\n",
    "plt.legend(); plt.title(\"Test‐set CATE distributions\")\n",
    "plt.show()"
   ]
  },
  {
   "cell_type": "code",
   "execution_count": 6,
   "id": "572499b0",
   "metadata": {},
   "outputs": [],
   "source": [
    "# Actual ITE\n",
    "cate_true = tab_df[['scene_id', 'ite_mean']]"
   ]
  },
  {
   "cell_type": "code",
   "execution_count": 7,
   "id": "a332310c",
   "metadata": {},
   "outputs": [
    {
     "data": {
      "image/png": "[encoded data removed]",
      "text/plain": [
       "<Figure size 600x600 with 1 Axes>"
      ]
     },
     "metadata": {},
     "output_type": "display_data"
    },
    {
     "name": "stdout",
     "output_type": "stream",
     "text": [
      "Saved histograms to:\n",
      "  results/ite_plots/hist_actual_ite.png\n",
      "  results/ite_plots/hist_estimated_ite.png\n",
      "{'r2': -789.8421587103322, 'rmse': 0.05385770552831608, 'rate_ratio': 97.16689784155963}\n"
     ]
    }
   ],
   "source": [
    "# evaluating ITE with the actual data for tabular\n",
    "metrics = evaluate_ite(\n",
    "    cate_true,\n",
    "    cate_tab,\n",
    "    id_col=\"scene_id\",\n",
    "    actual_col=\"ite_mean\",\n",
    "    estimated_col=\"CATE\",\n",
    "    output_dir=\"results/ite_plots\"\n",
    ")\n",
    "print(metrics)"
   ]
  },
  {
   "cell_type": "code",
   "execution_count": null,
   "id": "07f0ecac",
   "metadata": {},
   "outputs": [],
   "source": [
    "# evaluating ITE with the actual data for image\n",
    "metrics = evaluate_ite(\n",
    "    cate_true,\n",
    "    cate_img,\n",
    "    id_col=\"scene_id\",\n",
    "    actual_col=\"actual_ite\",\n",
    "    estimated_col=\"CATE_wet\",\n",
    "    output_dir=\"results/ite_plots\"\n",
    ")\n",
    "print(metrics)"
   ]
  },
  {
   "cell_type": "code",
   "execution_count": 11,
   "id": "1d1e74fc",
   "metadata": {},
   "outputs": [],
   "source": [
    "PCA_COLS = [f'PC{i+1}' for i in range(10)]"
   ]
  },
  {
   "cell_type": "code",
   "execution_count": 12,
   "id": "5352edf1",
   "metadata": {},
   "outputs": [],
   "source": [
    "outcome_col=OUTCOME\n",
    "treatment_col=PCA_COLS\n",
    "covariate_cols=COVS\n"
   ]
  },
  {
   "cell_type": "code",
   "execution_count": 13,
   "id": "a3d309c1",
   "metadata": {},
   "outputs": [],
   "source": [
    "df2 = df.copy()\n",
    "df2['T_vec'] = df2[treatment_col].values.tolist()\n"
   ]
  },
  {
   "cell_type": "code",
   "execution_count": 15,
   "id": "59c9ac63",
   "metadata": {},
   "outputs": [],
   "source": [
    "train = df2.loc[train_idx]\n",
    "test  = df2.loc[test_idx]"
   ]
  },
  {
   "cell_type": "code",
   "execution_count": 16,
   "id": "db9a618c",
   "metadata": {},
   "outputs": [],
   "source": [
    "X_tr = train[covariate_cols].values\n",
    "T_tr = np.vstack(train['T_vec'].values)\n",
    "Y_tr = train[outcome_col].values\n",
    "\n",
    "X_te = test[covariate_cols].values\n",
    "T_te = np.vstack(test['T_vec'].values)\n",
    "Y_te = test[outcome_col].values"
   ]
  },
  {
   "cell_type": "code",
   "execution_count": 19,
   "id": "a1525fb9",
   "metadata": {},
   "outputs": [
    {
     "data": {
      "text/plain": [
       "<econml.dml.causal_forest.CausalForestDML at 0x34afc0fd0>"
      ]
     },
     "execution_count": 19,
     "metadata": {},
     "output_type": "execute_result"
    }
   ],
   "source": [
    "from econml.dml import CausalForestDML\n",
    "\n",
    "# Fit model\n",
    "cf = CausalForestDML(\n",
    "    n_estimators=100,\n",
    "    random_state=42,\n",
    ")\n",
    "cf.fit(Y_tr, T_tr, X=X_tr)\n"
   ]
  },
  {
   "cell_type": "code",
   "execution_count": 20,
   "id": "4a0f5957",
   "metadata": {},
   "outputs": [
    {
     "name": "stderr",
     "output_type": "stream",
     "text": [
      "A scalar was specified but there are multiple treatments; the same value will be used for each treatment.  Consider specifyingall treatments, or using the const_marginal_effect method.\n",
      "A scalar was specified but there are multiple treatments; the same value will be used for each treatment.  Consider specifyingall treatments, or using the const_marginal_effect method.\n"
     ]
    }
   ],
   "source": [
    "cate_tr = cf.effect(X_tr)\n",
    "cate_te = cf.effect(X_te)"
   ]
  },
  {
   "cell_type": "code",
   "execution_count": 26,
   "id": "fcc4cfb8",
   "metadata": {},
   "outputs": [],
   "source": [
    "cate_tr = cf.const_marginal_effect(X_tr)\n",
    "cate_te = cf.const_marginal_effect(X_te)"
   ]
  },
  {
   "cell_type": "code",
   "execution_count": 30,
   "id": "24c3400c",
   "metadata": {},
   "outputs": [
    {
     "data": {
      "text/plain": [
       "array([-0.87009908,  0.45176168,  2.47818956,  1.22641501,  1.37732458,\n",
       "       -0.27319716,  0.42484804, -0.09470584,  1.41985507, -0.34403419])"
      ]
     },
     "execution_count": 30,
     "metadata": {},
     "output_type": "execute_result"
    }
   ],
   "source": [
    "cf.const_marginal_ate(X_te)"
   ]
  },
  {
   "cell_type": "code",
   "execution_count": 40,
   "id": "835a4ffd",
   "metadata": {},
   "outputs": [
    {
     "data": {
      "text/html": [
       "<table class=\"simpletable\">\n",
       "<caption>Uncertainty of Mean Point Estimate</caption>\n",
       "<tr>\n",
       "   <td></td>  <th>mean_point</th> <th>stderr_mean</th>  <th>zstat</th> <th>pvalue</th> <th>ci_mean_lower</th> <th>ci_mean_upper</th>\n",
       "</tr>\n",
       "<tr>\n",
       "  <th>T0</th>    <td>-0.87</td>      <td>9.829</td>    <td>-0.089</td>  <td>0.929</td>    <td>-20.135</td>       <td>18.395</td>    \n",
       "</tr>\n",
       "<tr>\n",
       "  <th>T1</th>    <td>0.452</td>     <td>12.596</td>     <td>0.036</td>  <td>0.971</td>    <td>-24.237</td>        <td>25.14</td>    \n",
       "</tr>\n",
       "<tr>\n",
       "  <th>T2</th>    <td>2.478</td>     <td>14.438</td>     <td>0.172</td>  <td>0.864</td>    <td>-25.82</td>        <td>30.776</td>    \n",
       "</tr>\n",
       "<tr>\n",
       "  <th>T3</th>    <td>1.226</td>     <td>11.065</td>     <td>0.111</td>  <td>0.912</td>    <td>-20.461</td>       <td>22.914</td>    \n",
       "</tr>\n",
       "<tr>\n",
       "  <th>T4</th>    <td>1.377</td>     <td>20.281</td>     <td>0.068</td>  <td>0.946</td>    <td>-38.372</td>       <td>41.127</td>    \n",
       "</tr>\n",
       "<tr>\n",
       "  <th>T5</th>   <td>-0.273</td>     <td>21.479</td>    <td>-0.013</td>  <td>0.99</td>     <td>-42.371</td>       <td>41.824</td>    \n",
       "</tr>\n",
       "<tr>\n",
       "  <th>T6</th>    <td>0.425</td>     <td>18.004</td>     <td>0.024</td>  <td>0.981</td>    <td>-34.863</td>       <td>35.713</td>    \n",
       "</tr>\n",
       "<tr>\n",
       "  <th>T7</th>   <td>-0.095</td>      <td>6.195</td>    <td>-0.015</td>  <td>0.988</td>    <td>-12.237</td>       <td>12.048</td>    \n",
       "</tr>\n",
       "<tr>\n",
       "  <th>T8</th>    <td>1.42</td>      <td>13.116</td>     <td>0.108</td>  <td>0.914</td>    <td>-24.287</td>       <td>27.127</td>    \n",
       "</tr>\n",
       "<tr>\n",
       "  <th>T9</th>   <td>-0.344</td>     <td>21.995</td>    <td>-0.016</td>  <td>0.988</td>    <td>-43.454</td>       <td>42.766</td>    \n",
       "</tr>\n",
       "</table>\n",
       "<table class=\"simpletable\">\n",
       "<caption>Distribution of Point Estimate</caption>\n",
       "<tr>\n",
       "   <td></td>  <th>std_point</th> <th>pct_point_lower</th> <th>pct_point_upper</th>\n",
       "</tr>\n",
       "<tr>\n",
       "  <th>T0</th>   <td>7.533</td>       <td>-18.772</td>          <td>6.057</td>     \n",
       "</tr>\n",
       "<tr>\n",
       "  <th>T1</th>   <td>9.463</td>       <td>-7.846</td>          <td>12.985</td>     \n",
       "</tr>\n",
       "<tr>\n",
       "  <th>T2</th>  <td>20.656</td>       <td>-10.12</td>           <td>42.51</td>     \n",
       "</tr>\n",
       "<tr>\n",
       "  <th>T3</th>  <td>14.847</td>       <td>-12.907</td>         <td>32.071</td>     \n",
       "</tr>\n",
       "<tr>\n",
       "  <th>T4</th>  <td>16.696</td>        <td>-8.95</td>          <td>21.758</td>     \n",
       "</tr>\n",
       "<tr>\n",
       "  <th>T5</th>  <td>29.494</td>       <td>-11.308</td>         <td>29.897</td>     \n",
       "</tr>\n",
       "<tr>\n",
       "  <th>T6</th>  <td>26.566</td>       <td>-15.147</td>         <td>26.144</td>     \n",
       "</tr>\n",
       "<tr>\n",
       "  <th>T7</th>  <td>10.895</td>       <td>-14.781</td>         <td>10.015</td>     \n",
       "</tr>\n",
       "<tr>\n",
       "  <th>T8</th>  <td>13.383</td>       <td>-10.331</td>         <td>21.421</td>     \n",
       "</tr>\n",
       "<tr>\n",
       "  <th>T9</th>  <td>16.188</td>       <td>-14.063</td>          <td>16.76</td>     \n",
       "</tr>\n",
       "</table>\n",
       "<table class=\"simpletable\">\n",
       "<caption>Total Variance of Point Estimate</caption>\n",
       "<tr>\n",
       "   <td></td>  <th>stderr_point</th> <th>ci_point_lower</th> <th>ci_point_upper</th>\n",
       "</tr>\n",
       "<tr>\n",
       "  <th>T0</th>    <td>12.384</td>        <td>-18.83</td>          <td>8.08</td>     \n",
       "</tr>\n",
       "<tr>\n",
       "  <th>T1</th>    <td>15.755</td>        <td>-10.957</td>        <td>13.274</td>    \n",
       "</tr>\n",
       "<tr>\n",
       "  <th>T2</th>    <td>25.201</td>        <td>-11.571</td>        <td>42.816</td>    \n",
       "</tr>\n",
       "<tr>\n",
       "  <th>T3</th>    <td>18.517</td>        <td>-15.577</td>         <td>37.71</td>    \n",
       "</tr>\n",
       "<tr>\n",
       "  <th>T4</th>    <td>26.269</td>        <td>-11.176</td>         <td>24.5</td>     \n",
       "</tr>\n",
       "<tr>\n",
       "  <th>T5</th>    <td>36.486</td>        <td>-13.791</td>        <td>30.744</td>    \n",
       "</tr>\n",
       "<tr>\n",
       "  <th>T6</th>    <td>32.092</td>        <td>-17.741</td>        <td>28.253</td>    \n",
       "</tr>\n",
       "<tr>\n",
       "  <th>T7</th>    <td>12.534</td>        <td>-15.804</td>         <td>12.08</td>    \n",
       "</tr>\n",
       "<tr>\n",
       "  <th>T8</th>    <td>18.739</td>        <td>-12.973</td>        <td>23.019</td>    \n",
       "</tr>\n",
       "<tr>\n",
       "  <th>T9</th>     <td>27.31</td>        <td>-14.139</td>        <td>22.534</td>    \n",
       "</tr>\n",
       "</table><br/><br/>Note: The stderr_mean is a conservative upper bound."
      ],
      "text/plain": [
       "<econml.inference._inference.PopulationSummaryResults at 0x340c1fa90>"
      ]
     },
     "execution_count": 40,
     "metadata": {},
     "output_type": "execute_result"
    }
   ],
   "source": [
    "cf.const_marginal_ate_inference(X_te)"
   ]
  },
  {
   "cell_type": "code",
   "execution_count": 32,
   "id": "150dc158",
   "metadata": {},
   "outputs": [
    {
     "data": {
      "application/vnd.microsoft.datawrangler.viewer.v0+json": {
       "columns": [
        {
         "name": "index",
         "rawType": "object",
         "type": "string"
        },
        {
         "name": "ite_mean",
         "rawType": "float64",
         "type": "float"
        }
       ],
       "ref": "0d4cf9f7-60c2-4758-955c-d7eee4cc5137",
       "rows": [
        [
         "count",
         "3565.0"
        ],
        [
         "mean",
         "0.0005192855207790217"
        ],
        [
         "std",
         "0.0019154193057286065"
        ],
        [
         "min",
         "0.0"
        ],
        [
         "25%",
         "0.0"
        ],
        [
         "50%",
         "0.0"
        ],
        [
         "75%",
         "0.0"
        ],
        [
         "max",
         "0.0279057643492706"
        ]
       ],
       "shape": {
        "columns": 1,
        "rows": 8
       }
      },
      "text/plain": [
       "count    3565.000000\n",
       "mean        0.000519\n",
       "std         0.001915\n",
       "min         0.000000\n",
       "25%         0.000000\n",
       "50%         0.000000\n",
       "75%         0.000000\n",
       "max         0.027906\n",
       "Name: ite_mean, dtype: float64"
      ]
     },
     "execution_count": 32,
     "metadata": {},
     "output_type": "execute_result"
    }
   ],
   "source": [
    "df['ite_mean'].describe()"
   ]
  },
  {
   "cell_type": "code",
   "execution_count": 31,
   "id": "b61f6780",
   "metadata": {},
   "outputs": [
    {
     "data": {
      "text/plain": [
       "{'ate_train': 0.2845239037618157, 'ate_test': -0.03915689854283351}"
      ]
     },
     "execution_count": 31,
     "metadata": {},
     "output_type": "execute_result"
    }
   ],
   "source": [
    "ate_tab"
   ]
  },
  {
   "cell_type": "code",
   "execution_count": 21,
   "id": "4ab7e160",
   "metadata": {},
   "outputs": [
    {
     "data": {
      "text/plain": [
       "array([-19.39055346,  -0.62530468,  -0.12296818, ...,   2.74085379,\n",
       "         0.19379128,  22.74688646])"
      ]
     },
     "execution_count": 21,
     "metadata": {},
     "output_type": "execute_result"
    }
   ],
   "source": [
    "cate_tr"
   ]
  },
  {
   "cell_type": "code",
   "execution_count": null,
   "id": "a21eae86",
   "metadata": {},
   "outputs": [],
   "source": [
    "\n",
    "# Predict CATEs\n",
    "\n",
    "\n",
    "# Predict ATEs using proper baseline for multivariate treatment\n",
    "baseline = np.zeros(T_tr.shape[1])\n",
    "ate_tr = cf.ate(X_tr, T0=baseline)\n",
    "ate_te = cf.ate(X_te, T0=baseline)\n",
    "\n",
    "# Collect results\n",
    "df_tr = pd.DataFrame({\n",
    "    'scene_id': train['scene_id'].values,\n",
    "    'dataset': 'train',\n",
    "    'CATE_wet': cate_tr\n",
    "})\n",
    "df_te = pd.DataFrame({\n",
    "    'scene_id': test['scene_id'].values,\n",
    "    'dataset': 'test',\n",
    "    'CATE_wet': cate_te\n",
    "})\n",
    "\n",
    "cate_df = pd.concat([df_tr, df_te], ignore_index=True)\n",
    "ate_dict = {'ate_train': ate_tr, 'ate_test': ate_te}\n"
   ]
  }
 ],
 "metadata": {
  "kernelspec": {
   "display_name": "imageTRT",
   "language": "python",
   "name": "python3"
  },
  "language_info": {
   "codemirror_mode": {
    "name": "ipython",
    "version": 3
   },
   "file_extension": ".py",
   "mimetype": "text/x-python",
   "name": "python",
   "nbconvert_exporter": "python",
   "pygments_lexer": "ipython3",
   "version": "3.10.9"
  }
 },
 "nbformat": 4,
 "nbformat_minor": 5
}
