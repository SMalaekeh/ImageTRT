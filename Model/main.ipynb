{
 "cells": [
  {
   "cell_type": "code",
   "execution_count": 1,
   "id": "2b58afb2",
   "metadata": {},
   "outputs": [
    {
     "name": "stderr",
     "output_type": "stream",
     "text": [
      "IProgress not found. Please update jupyter and ipywidgets. See https://ipywidgets.readthedocs.io/en/stable/user_install.html\n"
     ]
    }
   ],
   "source": [
    "import pathlib\n",
    "import rasterio\n",
    "import numpy as np\n",
    "import pandas as pd\n",
    "import torch\n",
    "from PIL import Image\n",
    "# Written Utils Functions\n",
    "from Utils.utils import build_embedding_model, compute_image_embeddings\n",
    "from Utils.utils import compute_tabular_features, combine_features\n",
    "# Writtent Model Functions\n",
    "from Utils.computation import compute_pca_components\n",
    "from Utils.computation import estimate_treatment_effect_tabular \n",
    "from Utils.computation import estimate_treatment_effect_with_embeddings\n",
    "from Utils.computation import evaluate_ite, get_train_test_indices"
   ]
  },
  {
   "cell_type": "code",
   "execution_count": 2,
   "id": "edbe89e4",
   "metadata": {},
   "outputs": [],
   "source": [
    "# Collect file paths\n",
    "COV_DIR = pathlib.Path('/Users/sayedmorteza/Library/CloudStorage/Box-Box/Hetwet_Data')\n",
    "DATA_DIR = pathlib.Path('/Users/sayedmorteza/Library/CloudStorage/Box-Box/Caltech Research/Scripts/ImageTRT/Synthetic Data Generation/Results')\n",
    "\n",
    "\n",
    "folders = {\n",
    "    'wet': DATA_DIR / 'Treatment',\n",
    "    'dem': COV_DIR / 'DEM',\n",
    "    'cap': COV_DIR / 'CAPITAL_1996',\n",
    "    'outcome': DATA_DIR / 'Outcome_Post',\n",
    "    'ite': DATA_DIR / 'ITE_TOTAL'\n",
    "}\n",
    "\n",
    "\n",
    "scene_ids = [str(i) for i in range(1, 3566)]"
   ]
  },
  {
   "cell_type": "code",
   "execution_count": 3,
   "id": "ec8583a2",
   "metadata": {},
   "outputs": [
    {
     "name": "stderr",
     "output_type": "stream",
     "text": [
      "Dataset has no geotransform, gcps, or rpcs. The identity matrix will be returned.\n"
     ]
    },
    {
     "name": "stdout",
     "output_type": "stream",
     "text": [
      "Saved features to: /Users/sayedmorteza/Library/CloudStorage/Box-Box/Caltech Research/Scripts/ImageTRT/Model/features.csv\n"
     ]
    }
   ],
   "source": [
    "# Tabular features\n",
    "tab_df = compute_tabular_features(folders, scene_ids)\n",
    "tab_df.head()\n",
    "tab_df.to_csv('tabular_features.csv', index=False)"
   ]
  },
  {
   "cell_type": "code",
   "execution_count": 5,
   "id": "3447b3fc",
   "metadata": {},
   "outputs": [
    {
     "data": {
      "application/vnd.microsoft.datawrangler.viewer.v0+json": {
       "columns": [
        {
         "name": "index",
         "rawType": "object",
         "type": "string"
        },
        {
         "name": "wet_mean",
         "rawType": "float64",
         "type": "float"
        },
        {
         "name": "wet_std",
         "rawType": "float64",
         "type": "float"
        },
        {
         "name": "dem_mean",
         "rawType": "float64",
         "type": "float"
        },
        {
         "name": "dem_std",
         "rawType": "float64",
         "type": "float"
        },
        {
         "name": "cap_mean",
         "rawType": "float64",
         "type": "float"
        },
        {
         "name": "cap_std",
         "rawType": "float64",
         "type": "float"
        },
        {
         "name": "outcome_mean",
         "rawType": "float64",
         "type": "float"
        },
        {
         "name": "outcome_std",
         "rawType": "float64",
         "type": "float"
        },
        {
         "name": "ite_mean",
         "rawType": "float64",
         "type": "float"
        },
        {
         "name": "ite_std",
         "rawType": "float64",
         "type": "float"
        }
       ],
       "ref": "b4582dd4-ef27-405b-b806-61314c699d84",
       "rows": [
        [
         "count",
         "3565.0",
         "3565.0",
         "3565.0",
         "3565.0",
         "3565.0",
         "3565.0",
         "3565.0",
         "3565.0",
         "3565.0",
         "3565.0"
        ],
        [
         "mean",
         "0.008492785182273404",
         "0.03765514058519873",
         "-433.918691514912",
         "216.40170929715916",
         "41972.41034726508",
         "252052.15714436487",
         "3.747508240551885",
         "0.7152176780831347",
         "0.000519285520779029",
         "0.0018815557773514606"
        ],
        [
         "std",
         "0.029381893941800213",
         "0.07836719552473262",
         "1861.7739377301868",
         "907.998179404505",
         "172172.44061724003",
         "1280286.8496579009",
         "1.1215309500034212",
         "1.6395062245618128",
         "0.001915419305728617",
         "0.005024306794039547"
        ],
        [
         "min",
         "0.0",
         "0.0",
         "-9999.0",
         "0.0",
         "0.0",
         "0.0",
         "0.0",
         "0.0",
         "0.0",
         "0.0"
        ],
        [
         "25%",
         "0.0",
         "0.0",
         "1.7271043261729093",
         "0.8345367652313598",
         "0.0",
         "0.0",
         "3.703125",
         "0.3903123748998999",
         "0.0",
         "0.0"
        ],
        [
         "50%",
         "0.0",
         "0.0",
         "9.806547954441701",
         "2.7762220885309414",
         "2873.736",
         "20009.960484299547",
         "3.78125",
         "0.4416654382844553",
         "0.0",
         "0.0"
        ],
        [
         "75%",
         "0.001251220703125",
         "0.03535046180571155",
         "30.674374293274013",
         "7.810326724580258",
         "22786.7568",
         "75623.78780647693",
         "3.875",
         "0.47495887979908324",
         "0.0",
         "0.0"
        ],
        [
         "max",
         "0.4180450439453125",
         "0.493237655880078",
         "103.38410526101426",
         "4999.444137546229",
         "6145464.5936",
         "39609602.037429936",
         "33.64784939959645",
         "49.72731328022831",
         "0.027905764349270612",
         "0.03486330949723182"
        ]
       ],
       "shape": {
        "columns": 10,
        "rows": 8
       }
      },
      "text/html": [
       "<div>\n",
       "<style scoped>\n",
       "    .dataframe tbody tr th:only-of-type {\n",
       "        vertical-align: middle;\n",
       "    }\n",
       "\n",
       "    .dataframe tbody tr th {\n",
       "        vertical-align: top;\n",
       "    }\n",
       "\n",
       "    .dataframe thead th {\n",
       "        text-align: right;\n",
       "    }\n",
       "</style>\n",
       "<table border=\"1\" class=\"dataframe\">\n",
       "  <thead>\n",
       "    <tr style=\"text-align: right;\">\n",
       "      <th></th>\n",
       "      <th>wet_mean</th>\n",
       "      <th>wet_std</th>\n",
       "      <th>dem_mean</th>\n",
       "      <th>dem_std</th>\n",
       "      <th>cap_mean</th>\n",
       "      <th>cap_std</th>\n",
       "      <th>outcome_mean</th>\n",
       "      <th>outcome_std</th>\n",
       "      <th>ite_mean</th>\n",
       "      <th>ite_std</th>\n",
       "    </tr>\n",
       "  </thead>\n",
       "  <tbody>\n",
       "    <tr>\n",
       "      <th>count</th>\n",
       "      <td>3565.000000</td>\n",
       "      <td>3565.000000</td>\n",
       "      <td>3565.000000</td>\n",
       "      <td>3565.000000</td>\n",
       "      <td>3.565000e+03</td>\n",
       "      <td>3.565000e+03</td>\n",
       "      <td>3565.000000</td>\n",
       "      <td>3565.000000</td>\n",
       "      <td>3565.000000</td>\n",
       "      <td>3565.000000</td>\n",
       "    </tr>\n",
       "    <tr>\n",
       "      <th>mean</th>\n",
       "      <td>0.008493</td>\n",
       "      <td>0.037655</td>\n",
       "      <td>-433.918692</td>\n",
       "      <td>216.401709</td>\n",
       "      <td>4.197241e+04</td>\n",
       "      <td>2.520522e+05</td>\n",
       "      <td>3.747508</td>\n",
       "      <td>0.715218</td>\n",
       "      <td>0.000519</td>\n",
       "      <td>0.001882</td>\n",
       "    </tr>\n",
       "    <tr>\n",
       "      <th>std</th>\n",
       "      <td>0.029382</td>\n",
       "      <td>0.078367</td>\n",
       "      <td>1861.773938</td>\n",
       "      <td>907.998179</td>\n",
       "      <td>1.721724e+05</td>\n",
       "      <td>1.280287e+06</td>\n",
       "      <td>1.121531</td>\n",
       "      <td>1.639506</td>\n",
       "      <td>0.001915</td>\n",
       "      <td>0.005024</td>\n",
       "    </tr>\n",
       "    <tr>\n",
       "      <th>min</th>\n",
       "      <td>0.000000</td>\n",
       "      <td>0.000000</td>\n",
       "      <td>-9999.000000</td>\n",
       "      <td>0.000000</td>\n",
       "      <td>0.000000e+00</td>\n",
       "      <td>0.000000e+00</td>\n",
       "      <td>0.000000</td>\n",
       "      <td>0.000000</td>\n",
       "      <td>0.000000</td>\n",
       "      <td>0.000000</td>\n",
       "    </tr>\n",
       "    <tr>\n",
       "      <th>25%</th>\n",
       "      <td>0.000000</td>\n",
       "      <td>0.000000</td>\n",
       "      <td>1.727104</td>\n",
       "      <td>0.834537</td>\n",
       "      <td>0.000000e+00</td>\n",
       "      <td>0.000000e+00</td>\n",
       "      <td>3.703125</td>\n",
       "      <td>0.390312</td>\n",
       "      <td>0.000000</td>\n",
       "      <td>0.000000</td>\n",
       "    </tr>\n",
       "    <tr>\n",
       "      <th>50%</th>\n",
       "      <td>0.000000</td>\n",
       "      <td>0.000000</td>\n",
       "      <td>9.806548</td>\n",
       "      <td>2.776222</td>\n",
       "      <td>2.873736e+03</td>\n",
       "      <td>2.000996e+04</td>\n",
       "      <td>3.781250</td>\n",
       "      <td>0.441665</td>\n",
       "      <td>0.000000</td>\n",
       "      <td>0.000000</td>\n",
       "    </tr>\n",
       "    <tr>\n",
       "      <th>75%</th>\n",
       "      <td>0.001251</td>\n",
       "      <td>0.035350</td>\n",
       "      <td>30.674374</td>\n",
       "      <td>7.810327</td>\n",
       "      <td>2.278676e+04</td>\n",
       "      <td>7.562379e+04</td>\n",
       "      <td>3.875000</td>\n",
       "      <td>0.474959</td>\n",
       "      <td>0.000000</td>\n",
       "      <td>0.000000</td>\n",
       "    </tr>\n",
       "    <tr>\n",
       "      <th>max</th>\n",
       "      <td>0.418045</td>\n",
       "      <td>0.493238</td>\n",
       "      <td>103.384105</td>\n",
       "      <td>4999.444138</td>\n",
       "      <td>6.145465e+06</td>\n",
       "      <td>3.960960e+07</td>\n",
       "      <td>33.647849</td>\n",
       "      <td>49.727313</td>\n",
       "      <td>0.027906</td>\n",
       "      <td>0.034863</td>\n",
       "    </tr>\n",
       "  </tbody>\n",
       "</table>\n",
       "</div>"
      ],
      "text/plain": [
       "          wet_mean      wet_std     dem_mean      dem_std      cap_mean  \\\n",
       "count  3565.000000  3565.000000  3565.000000  3565.000000  3.565000e+03   \n",
       "mean      0.008493     0.037655  -433.918692   216.401709  4.197241e+04   \n",
       "std       0.029382     0.078367  1861.773938   907.998179  1.721724e+05   \n",
       "min       0.000000     0.000000 -9999.000000     0.000000  0.000000e+00   \n",
       "25%       0.000000     0.000000     1.727104     0.834537  0.000000e+00   \n",
       "50%       0.000000     0.000000     9.806548     2.776222  2.873736e+03   \n",
       "75%       0.001251     0.035350    30.674374     7.810327  2.278676e+04   \n",
       "max       0.418045     0.493238   103.384105  4999.444138  6.145465e+06   \n",
       "\n",
       "            cap_std  outcome_mean  outcome_std     ite_mean      ite_std  \n",
       "count  3.565000e+03   3565.000000  3565.000000  3565.000000  3565.000000  \n",
       "mean   2.520522e+05      3.747508     0.715218     0.000519     0.001882  \n",
       "std    1.280287e+06      1.121531     1.639506     0.001915     0.005024  \n",
       "min    0.000000e+00      0.000000     0.000000     0.000000     0.000000  \n",
       "25%    0.000000e+00      3.703125     0.390312     0.000000     0.000000  \n",
       "50%    2.000996e+04      3.781250     0.441665     0.000000     0.000000  \n",
       "75%    7.562379e+04      3.875000     0.474959     0.000000     0.000000  \n",
       "max    3.960960e+07     33.647849    49.727313     0.027906     0.034863  "
      ]
     },
     "execution_count": 5,
     "metadata": {},
     "output_type": "execute_result"
    }
   ],
   "source": [
    "tab_df.describe()"
   ]
  },
  {
   "cell_type": "code",
   "execution_count": null,
   "id": "97766843",
   "metadata": {},
   "outputs": [],
   "source": [
    "# Embeddings\n",
    "device = torch.device('cuda' if torch.cuda.is_available() else 'cpu')\n",
    "\n",
    "model = build_embedding_model(\n",
    "    device=device,\n",
    "    model_type='resnet18', \n",
    "    conv_layer=4             \n",
    ")\n",
    "\n",
    "# Compute image embeddings for each variable\n",
    "# for var in folders:\n",
    "#     _ = compute_image_embeddings(\n",
    "#         folders=folders,\n",
    "#         scene_ids=scene_ids,\n",
    "#         var=var,\n",
    "#         model=model,\n",
    "#         device=device,\n",
    "#         img_size=256,\n",
    "#     )\n",
    "\n",
    "# Compute image embeddings for only wetland\n",
    "var = 'wet'\n",
    "_ = compute_image_embeddings(\n",
    "    folders=folders,\n",
    "    scene_ids=scene_ids,\n",
    "    var=var,\n",
    "    model=model,\n",
    "    device=device,\n",
    "    img_size=256,\n",
    ")"
   ]
  },
  {
   "cell_type": "code",
   "execution_count": null,
   "id": "c619c5b0",
   "metadata": {},
   "outputs": [],
   "source": [
    "# Get pca features\n",
    "pca_wet = compute_pca_components('wet_embeddings.csv', n_components=10)\n",
    "# pca_dem = compute_pca_components('dem_embeddings.csv', n_components=2)\n",
    "# pca_cap = compute_pca_components('cap_embeddings.csv', n_components=2)\n",
    "# pca_claims_96 = compute_pca_components('claims_96_embeddings.csv', n_components=2)\n",
    "\n",
    "pca_wet.to_csv(\"wet_pca10.csv\")"
   ]
  },
  {
   "cell_type": "code",
   "execution_count": null,
   "id": "69b66aa7",
   "metadata": {},
   "outputs": [],
   "source": [
    "# combine features\n",
    "combined_df = combine_features(\n",
    "    tab_df,\n",
    "    pca_wet=pca_wet,\n",
    "    pca_dem=pca_dem,\n",
    "    pca_cap=pca_cap,\n",
    "    pca_claims_96=pca_claims_96\n",
    ")"
   ]
  },
  {
   "cell_type": "code",
   "execution_count": null,
   "id": "abe336f8",
   "metadata": {},
   "outputs": [],
   "source": [
    "# load tables\n",
    "tab_df     = pd.read_csv('tabular_features.csv')\n",
    "pca_wet    = pd.read_csv('wet_pca10.csv')\n",
    "\n",
    "# outcome variable\n",
    "tab_df['outcome'] = tab_df['claims_96_mean'] - tab_df['claims_16_mean']\n",
    "\n",
    "# pick outcome & features\n",
    "OUTCOME = 'outcome'\n",
    "TREAT   = 'wet_mean'\n",
    "COVS    = [c for c in tab_df.columns \n",
    "           if c not in ('scene_id', OUTCOME, 'wet_mean', 'outcome', 'claims_16_mean', 'claims_96_mean')]\n",
    "\n",
    "# merge PCA back onto tab_df\n",
    "df = tab_df.merge(pca_wet,  on='scene_id', how='left')\n",
    "\n",
    "# split once\n",
    "train_idx, test_idx = get_train_test_indices(tab_df, test_size=0.2, random_state=42)"
   ]
  },
  {
   "cell_type": "code",
   "execution_count": null,
   "id": "d7e0948d",
   "metadata": {},
   "outputs": [],
   "source": [
    "# tabular-only\n",
    "cate_tab, ate_tab, model_tab = estimate_treatment_effect_tabular(\n",
    "    df=df,\n",
    "    train_idx=train_idx,\n",
    "    test_idx=test_idx,\n",
    "    outcome_col=OUTCOME,\n",
    "    treatment_col=TREAT,\n",
    "    covariate_cols=COVS\n",
    ")"
   ]
  },
  {
   "cell_type": "code",
   "execution_count": null,
   "id": "7a9dc7ed",
   "metadata": {},
   "outputs": [],
   "source": [
    "# include image embeddings in the treatment\n",
    "PCA_COLS = [f'PC{i+1}' for i in range(10)]\n",
    "\n",
    "cate_img, ate_img, model_img = estimate_treatment_effect_with_embeddings(\n",
    "    df,\n",
    "    train_idx,\n",
    "    test_idx,\n",
    "    outcome_col=OUTCOME,\n",
    "    treatment_col=PCA_COLS,\n",
    "    covariate_cols=COVS\n",
    ")\n",
    "\n",
    "print(\"Tabular ATE (train/test):\", ate_tab)\n",
    "print(\"Image‐augmented ATE (train/test):\", ate_img)\n",
    "\n",
    "# ompare out‐of‐sample CATE distributions\n",
    "import seaborn as sns\n",
    "import matplotlib.pyplot as plt\n",
    "\n",
    "sns.kdeplot(cate_tab.query(\"dataset=='test'\")['CATE'], label='tabular')\n",
    "sns.kdeplot(cate_img.query(\"dataset=='test'\")['CATE_wet'], label='with embeddings')\n",
    "plt.legend(); plt.title(\"Test‐set CATE distributions\")\n",
    "plt.show()"
   ]
  },
  {
   "cell_type": "code",
   "execution_count": null,
   "id": "572499b0",
   "metadata": {},
   "outputs": [],
   "source": [
    "# Actual ITE\n",
    "cate_true = tab_df[['scene_id', 'ite']]"
   ]
  },
  {
   "cell_type": "code",
   "execution_count": null,
   "id": "a332310c",
   "metadata": {},
   "outputs": [],
   "source": [
    "# evaluating ITE with the actual data for tabular\n",
    "metrics = evaluate_ite(\n",
    "    cate_true,\n",
    "    cate_tab,\n",
    "    id_col=\"scene_id\",\n",
    "    actual_col=\"ite\",\n",
    "    estimated_col=\"CATE\",\n",
    "    output_dir=\"results/ite_plots\"\n",
    ")\n",
    "print(metrics)"
   ]
  },
  {
   "cell_type": "code",
   "execution_count": null,
   "id": "07f0ecac",
   "metadata": {},
   "outputs": [],
   "source": [
    "# evaluating ITE with the actual data for image\n",
    "metrics = evaluate_ite(\n",
    "    cate_true,\n",
    "    cate_img,\n",
    "    id_col=\"scene_id\",\n",
    "    actual_col=\"actual_ite\",\n",
    "    estimated_col=\"CATE_wet\",\n",
    "    output_dir=\"results/ite_plots\"\n",
    ")\n",
    "print(metrics)"
   ]
  }
 ],
 "metadata": {
  "kernelspec": {
   "display_name": "imageTRT",
   "language": "python",
   "name": "python3"
  },
  "language_info": {
   "codemirror_mode": {
    "name": "ipython",
    "version": 3
   },
   "file_extension": ".py",
   "mimetype": "text/x-python",
   "name": "python",
   "nbconvert_exporter": "python",
   "pygments_lexer": "ipython3",
   "version": "3.10.9"
  }
 },
 "nbformat": 4,
 "nbformat_minor": 5
}
